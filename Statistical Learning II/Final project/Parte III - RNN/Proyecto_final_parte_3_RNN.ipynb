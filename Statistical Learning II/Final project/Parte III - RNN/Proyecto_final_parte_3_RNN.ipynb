{
  "nbformat": 4,
  "nbformat_minor": 0,
  "metadata": {
    "colab": {
      "name": "Proyecto_final_parte_3_RNN",
      "provenance": []
    },
    "kernelspec": {
      "name": "python3",
      "display_name": "Python 3"
    },
    "language_info": {
      "name": "python"
    }
  },
  "cells": [
    {
      "cell_type": "markdown",
      "metadata": {
        "id": "b6tSzJ8XAiYt"
      },
      "source": [
        "# RNN - Norman Vicente\n",
        "##Analisis de sentimiento en reviews de Kindle"
      ]
    },
    {
      "cell_type": "code",
      "metadata": {
        "id": "tloA6N6TAAfY"
      },
      "source": [
        "from sklearn.feature_extraction.text import CountVectorizer\n",
        "from keras.preprocessing.text import Tokenizer\n",
        "from keras.preprocessing.sequence import pad_sequences\n",
        "from keras.models import Sequential\n",
        "from keras.layers import Dense, Embedding, LSTM, SpatialDropout1D\n",
        "from sklearn.model_selection import train_test_split\n",
        "from keras.utils.np_utils import to_categorical\n",
        "import pandas as pd\n",
        "import numpy as np\n",
        "import matplotlib.pyplot as plt\n",
        "import re\n",
        "from keras import backend as K\n",
        "from sklearn.metrics import f1_score\n",
        "from sklearn.metrics import recall_score"
      ],
      "execution_count": 41,
      "outputs": []
    },
    {
      "cell_type": "code",
      "metadata": {
        "id": "bmIKN7VXAEPd"
      },
      "source": [
        "dataset = pd.read_csv('facebook_kindle_reviews.csv')"
      ],
      "execution_count": 2,
      "outputs": []
    },
    {
      "cell_type": "markdown",
      "metadata": {
        "id": "zS2YWY8BFXi0"
      },
      "source": [
        "##Exploracion de datos\n"
      ]
    },
    {
      "cell_type": "code",
      "metadata": {
        "colab": {
          "base_uri": "https://localhost:8080/",
          "height": 204
        },
        "id": "zUQuYFK0AayL",
        "outputId": "b4089329-5a2f-4a82-fd6d-923f33bd8622"
      },
      "source": [
        "dataset.head()"
      ],
      "execution_count": 30,
      "outputs": [
        {
          "output_type": "execute_result",
          "data": {
            "text/html": [
              "<div>\n",
              "<style scoped>\n",
              "    .dataframe tbody tr th:only-of-type {\n",
              "        vertical-align: middle;\n",
              "    }\n",
              "\n",
              "    .dataframe tbody tr th {\n",
              "        vertical-align: top;\n",
              "    }\n",
              "\n",
              "    .dataframe thead th {\n",
              "        text-align: right;\n",
              "    }\n",
              "</style>\n",
              "<table border=\"1\" class=\"dataframe\">\n",
              "  <thead>\n",
              "    <tr style=\"text-align: right;\">\n",
              "      <th></th>\n",
              "      <th>Unnamed: 0</th>\n",
              "      <th>FBPost</th>\n",
              "      <th>Label</th>\n",
              "    </tr>\n",
              "  </thead>\n",
              "  <tbody>\n",
              "    <tr>\n",
              "      <th>0</th>\n",
              "      <td>0.0</td>\n",
              "      <td>Drug Runners and  a U.S. Senator have somethin...</td>\n",
              "      <td>O</td>\n",
              "    </tr>\n",
              "    <tr>\n",
              "      <th>1</th>\n",
              "      <td>1.0</td>\n",
              "      <td>Heres a single, to add, to Kindle. Just read t...</td>\n",
              "      <td>O</td>\n",
              "    </tr>\n",
              "    <tr>\n",
              "      <th>2</th>\n",
              "      <td>2.0</td>\n",
              "      <td>If you tire of Non-Fiction.. Check out http://...</td>\n",
              "      <td>O</td>\n",
              "    </tr>\n",
              "    <tr>\n",
              "      <th>3</th>\n",
              "      <td>3.0</td>\n",
              "      <td>Ghost of Round Island is supposedly nonfiction.</td>\n",
              "      <td>O</td>\n",
              "    </tr>\n",
              "    <tr>\n",
              "      <th>4</th>\n",
              "      <td>4.0</td>\n",
              "      <td>Why is Barnes and Nobles version of the Kindle...</td>\n",
              "      <td>N</td>\n",
              "    </tr>\n",
              "  </tbody>\n",
              "</table>\n",
              "</div>"
            ],
            "text/plain": [
              "   Unnamed: 0                                             FBPost Label\n",
              "0         0.0  Drug Runners and  a U.S. Senator have somethin...     O\n",
              "1         1.0  Heres a single, to add, to Kindle. Just read t...     O\n",
              "2         2.0  If you tire of Non-Fiction.. Check out http://...     O\n",
              "3         3.0    Ghost of Round Island is supposedly nonfiction.     O\n",
              "4         4.0  Why is Barnes and Nobles version of the Kindle...     N"
            ]
          },
          "metadata": {},
          "execution_count": 30
        }
      ]
    },
    {
      "cell_type": "code",
      "metadata": {
        "colab": {
          "base_uri": "https://localhost:8080/",
          "height": 204
        },
        "id": "skAOZyboFf63",
        "outputId": "b1f3e74d-f4b5-4db8-cec6-0e9aa7989ee2"
      },
      "source": [
        "dataset.tail()"
      ],
      "execution_count": 31,
      "outputs": [
        {
          "output_type": "execute_result",
          "data": {
            "text/html": [
              "<div>\n",
              "<style scoped>\n",
              "    .dataframe tbody tr th:only-of-type {\n",
              "        vertical-align: middle;\n",
              "    }\n",
              "\n",
              "    .dataframe tbody tr th {\n",
              "        vertical-align: top;\n",
              "    }\n",
              "\n",
              "    .dataframe thead th {\n",
              "        text-align: right;\n",
              "    }\n",
              "</style>\n",
              "<table border=\"1\" class=\"dataframe\">\n",
              "  <thead>\n",
              "    <tr style=\"text-align: right;\">\n",
              "      <th></th>\n",
              "      <th>Unnamed: 0</th>\n",
              "      <th>FBPost</th>\n",
              "      <th>Label</th>\n",
              "    </tr>\n",
              "  </thead>\n",
              "  <tbody>\n",
              "    <tr>\n",
              "      <th>996</th>\n",
              "      <td>996.0</td>\n",
              "      <td>I think the point of the commercial is that, e...</td>\n",
              "      <td>P</td>\n",
              "    </tr>\n",
              "    <tr>\n",
              "      <th>997</th>\n",
              "      <td>997.0</td>\n",
              "      <td>Kindle 3 is such a great product. I could not ...</td>\n",
              "      <td>P</td>\n",
              "    </tr>\n",
              "    <tr>\n",
              "      <th>998</th>\n",
              "      <td>998.0</td>\n",
              "      <td>develop a way to share books!  that is a big d...</td>\n",
              "      <td>N</td>\n",
              "    </tr>\n",
              "    <tr>\n",
              "      <th>999</th>\n",
              "      <td>999.0</td>\n",
              "      <td>I love my kindle! =)</td>\n",
              "      <td>P</td>\n",
              "    </tr>\n",
              "    <tr>\n",
              "      <th>1000</th>\n",
              "      <td>NaN</td>\n",
              "      <td>bullshit</td>\n",
              "      <td>N</td>\n",
              "    </tr>\n",
              "  </tbody>\n",
              "</table>\n",
              "</div>"
            ],
            "text/plain": [
              "      Unnamed: 0                                             FBPost Label\n",
              "996        996.0  I think the point of the commercial is that, e...     P\n",
              "997        997.0  Kindle 3 is such a great product. I could not ...     P\n",
              "998        998.0  develop a way to share books!  that is a big d...     N\n",
              "999        999.0                               I love my kindle! =)     P\n",
              "1000         NaN                                           bullshit     N"
            ]
          },
          "metadata": {},
          "execution_count": 31
        }
      ]
    },
    {
      "cell_type": "code",
      "metadata": {
        "colab": {
          "base_uri": "https://localhost:8080/"
        },
        "id": "NzsQfRJ_PDXO",
        "outputId": "c5291f59-0fe7-4092-d21a-443c702b8e72"
      },
      "source": [
        "dataset.dtypes"
      ],
      "execution_count": 32,
      "outputs": [
        {
          "output_type": "execute_result",
          "data": {
            "text/plain": [
              "Unnamed: 0    float64\n",
              "FBPost         object\n",
              "Label          object\n",
              "dtype: object"
            ]
          },
          "metadata": {},
          "execution_count": 32
        }
      ]
    },
    {
      "cell_type": "markdown",
      "metadata": {
        "id": "1jkCOU7WO-Ws"
      },
      "source": [
        "### NA detection"
      ]
    },
    {
      "cell_type": "code",
      "metadata": {
        "colab": {
          "base_uri": "https://localhost:8080/"
        },
        "id": "4MOcu1ujOtF8",
        "outputId": "a6c42c77-d6cf-4b50-84d1-7f3aca1f1188"
      },
      "source": [
        "dataset.isna().sum()"
      ],
      "execution_count": 33,
      "outputs": [
        {
          "output_type": "execute_result",
          "data": {
            "text/plain": [
              "Unnamed: 0    1\n",
              "FBPost        0\n",
              "Label         0\n",
              "dtype: int64"
            ]
          },
          "metadata": {},
          "execution_count": 33
        }
      ]
    },
    {
      "cell_type": "code",
      "metadata": {
        "id": "34VK_u2sAdJj"
      },
      "source": [
        "dataset.columns = map(str.lower, dataset.columns)"
      ],
      "execution_count": 3,
      "outputs": []
    },
    {
      "cell_type": "code",
      "metadata": {
        "id": "u4i3DA5pAhdG"
      },
      "source": [
        "dataset['fbpost'] = dataset['fbpost'].apply(lambda x: x.lower())\n",
        "dataset['fbpost'] = dataset['fbpost'].apply((lambda x: re.sub('[^a-zA-z0-9\\s]','',x)))"
      ],
      "execution_count": 4,
      "outputs": []
    },
    {
      "cell_type": "code",
      "metadata": {
        "id": "qyR2JNVoA6AR"
      },
      "source": [
        "dataset = dataset[dataset.label != \"O\"]"
      ],
      "execution_count": 5,
      "outputs": []
    },
    {
      "cell_type": "code",
      "metadata": {
        "colab": {
          "base_uri": "https://localhost:8080/"
        },
        "id": "S3cp1QliBAo2",
        "outputId": "0c855735-5b08-4fd5-b7cf-1ae1e41887ed"
      },
      "source": [
        "pie = dataset.label.value_counts()\n",
        "pie"
      ],
      "execution_count": 64,
      "outputs": [
        {
          "output_type": "execute_result",
          "data": {
            "text/plain": [
              "1    641\n",
              "0     84\n",
              "Name: label, dtype: int64"
            ]
          },
          "metadata": {},
          "execution_count": 64
        }
      ]
    },
    {
      "cell_type": "code",
      "metadata": {
        "colab": {
          "base_uri": "https://localhost:8080/",
          "height": 142
        },
        "id": "3THnNi5AhJS2",
        "outputId": "6d834c17-17a1-4160-d70b-ef7829fdc480"
      },
      "source": [
        "df_stats = dataset.groupby(['label']).sum()\n",
        "df_stats"
      ],
      "execution_count": 56,
      "outputs": [
        {
          "output_type": "execute_result",
          "data": {
            "text/html": [
              "<div>\n",
              "<style scoped>\n",
              "    .dataframe tbody tr th:only-of-type {\n",
              "        vertical-align: middle;\n",
              "    }\n",
              "\n",
              "    .dataframe tbody tr th {\n",
              "        vertical-align: top;\n",
              "    }\n",
              "\n",
              "    .dataframe thead th {\n",
              "        text-align: right;\n",
              "    }\n",
              "</style>\n",
              "<table border=\"1\" class=\"dataframe\">\n",
              "  <thead>\n",
              "    <tr style=\"text-align: right;\">\n",
              "      <th></th>\n",
              "      <th>unnamed: 0</th>\n",
              "    </tr>\n",
              "    <tr>\n",
              "      <th>label</th>\n",
              "      <th></th>\n",
              "    </tr>\n",
              "  </thead>\n",
              "  <tbody>\n",
              "    <tr>\n",
              "      <th>0</th>\n",
              "      <td>42764.0</td>\n",
              "    </tr>\n",
              "    <tr>\n",
              "      <th>1</th>\n",
              "      <td>323343.0</td>\n",
              "    </tr>\n",
              "  </tbody>\n",
              "</table>\n",
              "</div>"
            ],
            "text/plain": [
              "       unnamed: 0\n",
              "label            \n",
              "0         42764.0\n",
              "1        323343.0"
            ]
          },
          "metadata": {},
          "execution_count": 56
        }
      ]
    },
    {
      "cell_type": "markdown",
      "metadata": {
        "id": "juVF_5DziGHz"
      },
      "source": [
        "##Balance comentarios positivos y negativos"
      ]
    },
    {
      "cell_type": "code",
      "metadata": {
        "colab": {
          "base_uri": "https://localhost:8080/",
          "height": 592
        },
        "id": "5TlcEZ-HgBmU",
        "outputId": "70a05e96-8f25-4730-a274-0f2f04d6af84"
      },
      "source": [
        "df_stats.groupby(['label']).sum().plot(kind='pie', y='unnamed: 0' , shadow = True, startangle=180, figsize=(15,10), autopct='%1.1f%%')"
      ],
      "execution_count": 62,
      "outputs": [
        {
          "output_type": "execute_result",
          "data": {
            "text/plain": [
              "<matplotlib.axes._subplots.AxesSubplot at 0x7fa037659e10>"
            ]
          },
          "metadata": {},
          "execution_count": 62
        },
        {
          "output_type": "display_data",
          "data": {
            "image/png": "[encoded data removed]",
            "text/plain": [
              "<Figure size 1080x720 with 1 Axes>"
            ]
          },
          "metadata": {}
        }
      ]
    },
    {
      "cell_type": "markdown",
      "metadata": {
        "id": "C9cMgGYWF-AB"
      },
      "source": [
        "##Tokenizacion"
      ]
    },
    {
      "cell_type": "code",
      "metadata": {
        "id": "10hTlCrdA8t7"
      },
      "source": [
        "max_fatures = 2000\n",
        "tokenizer = Tokenizer(num_words=max_fatures, split=' ')\n",
        "tokenizer.fit_on_texts(dataset['fbpost'].values)\n",
        "X = tokenizer.texts_to_sequences(dataset['fbpost'].values)\n",
        "X = pad_sequences(X)"
      ],
      "execution_count": 6,
      "outputs": []
    },
    {
      "cell_type": "markdown",
      "metadata": {
        "id": "YreHs0fUKFQq"
      },
      "source": [
        "## OHE"
      ]
    },
    {
      "cell_type": "code",
      "metadata": {
        "id": "d9g-9n-QKDC8"
      },
      "source": [
        "labels = pd.get_dummies(dataset['label']).values"
      ],
      "execution_count": 8,
      "outputs": []
    },
    {
      "cell_type": "markdown",
      "metadata": {
        "id": "qmU8sjTMVC2A"
      },
      "source": [
        "## Train - Test - Val"
      ]
    },
    {
      "cell_type": "code",
      "metadata": {
        "colab": {
          "base_uri": "https://localhost:8080/"
        },
        "id": "KmI7UjbWCC3t",
        "outputId": "a1242c87-b0a5-41fb-8082-a0c58b205548"
      },
      "source": [
        "X_train, X_test, Y_train, Y_test = train_test_split(X,labels, test_size = 0.25, random_state = 42)\n",
        "X_train, X_val, Y_train, Y_val = train_test_split(X_train,Y_train, test_size = 0.1, random_state = 12)\n",
        "print(X_train.shape,Y_train.shape)\n",
        "print(X_test.shape,Y_test.shape)\n",
        "print(X_val.shape,Y_val.shape)"
      ],
      "execution_count": 9,
      "outputs": [
        {
          "output_type": "stream",
          "name": "stdout",
          "text": [
            "(488, 203) (488, 2)\n",
            "(182, 203) (182, 2)\n",
            "(55, 203) (55, 2)\n"
          ]
        }
      ]
    },
    {
      "cell_type": "markdown",
      "metadata": {
        "id": "3WtxarbzKm2c"
      },
      "source": [
        "## LSTM Model"
      ]
    },
    {
      "cell_type": "code",
      "metadata": {
        "colab": {
          "base_uri": "https://localhost:8080/"
        },
        "id": "nryh6x0iCGwG",
        "outputId": "e4ad159c-fe05-420c-cf51-6c69d3a9fdaf"
      },
      "source": [
        "embed_dim = 200\n",
        "lstm_out = 200\n",
        "\n",
        "model = Sequential()\n",
        "model.add(Embedding(max_fatures, embed_dim,input_length = X.shape[1]))\n",
        "model.add(SpatialDropout1D(0.4))\n",
        "model.add(LSTM(lstm_out, dropout=0.2, recurrent_dropout=0.2))\n",
        "model.add(Dense(2,activation='softmax'))\n",
        "model.compile(loss = 'categorical_crossentropy', optimizer='adam',metrics = ['accuracy'])\n",
        "print(model.summary())"
      ],
      "execution_count": 10,
      "outputs": [
        {
          "output_type": "stream",
          "name": "stdout",
          "text": [
            "Model: \"sequential\"\n",
            "_________________________________________________________________\n",
            "Layer (type)                 Output Shape              Param #   \n",
            "=================================================================\n",
            "embedding (Embedding)        (None, 203, 200)          400000    \n",
            "_________________________________________________________________\n",
            "spatial_dropout1d (SpatialDr (None, 203, 200)          0         \n",
            "_________________________________________________________________\n",
            "lstm (LSTM)                  (None, 200)               320800    \n",
            "_________________________________________________________________\n",
            "dense (Dense)                (None, 2)                 402       \n",
            "=================================================================\n",
            "Total params: 721,202\n",
            "Trainable params: 721,202\n",
            "Non-trainable params: 0\n",
            "_________________________________________________________________\n",
            "None\n"
          ]
        }
      ]
    },
    {
      "cell_type": "markdown",
      "metadata": {
        "id": "haifD4P3KtP2"
      },
      "source": [
        "## Training"
      ]
    },
    {
      "cell_type": "code",
      "metadata": {
        "colab": {
          "base_uri": "https://localhost:8080/"
        },
        "id": "jvO2DomVCJX3",
        "outputId": "c95feeb5-7b82-49af-af94-a9af2a006d30"
      },
      "source": [
        "batch_size = 32\n",
        "RNN = model.fit(X_train, Y_train, epochs = 8, batch_size=batch_size, verbose = 1)"
      ],
      "execution_count": 11,
      "outputs": [
        {
          "output_type": "stream",
          "name": "stdout",
          "text": [
            "Epoch 1/8\n",
            "16/16 [==============================] - 23s 1s/step - loss: 0.4776 - accuracy: 0.8566\n",
            "Epoch 2/8\n",
            "16/16 [==============================] - 20s 1s/step - loss: 0.3237 - accuracy: 0.8811\n",
            "Epoch 3/8\n",
            "16/16 [==============================] - 20s 1s/step - loss: 0.2777 - accuracy: 0.8852\n",
            "Epoch 4/8\n",
            "16/16 [==============================] - 20s 1s/step - loss: 0.2082 - accuracy: 0.9221\n",
            "Epoch 5/8\n",
            "16/16 [==============================] - 20s 1s/step - loss: 0.1410 - accuracy: 0.9611\n",
            "Epoch 6/8\n",
            "16/16 [==============================] - 20s 1s/step - loss: 0.0738 - accuracy: 0.9795\n",
            "Epoch 7/8\n",
            "16/16 [==============================] - 20s 1s/step - loss: 0.0530 - accuracy: 0.9898\n",
            "Epoch 8/8\n",
            "16/16 [==============================] - 20s 1s/step - loss: 0.0262 - accuracy: 0.9939\n"
          ]
        }
      ]
    },
    {
      "cell_type": "code",
      "metadata": {
        "colab": {
          "base_uri": "https://localhost:8080/",
          "height": 444
        },
        "id": "dfKDe6fRCMCi",
        "outputId": "72aecc63-7169-47d1-978a-c292b34eccb4"
      },
      "source": [
        "history = pd.DataFrame(RNN.history)\n",
        "plt.figure(figsize=(7,7));\n",
        "plt.plot(history[\"loss\"]);\n",
        "plt.plot(history[\"accuracy\"]);\n",
        "plt.title(\"Loss and accuracy\");\n",
        "plt.show();"
      ],
      "execution_count": 65,
      "outputs": [
        {
          "output_type": "display_data",
          "data": {
            "image/png": "[encoded data removed]",
            "text/plain": [
              "<Figure size 504x504 with 1 Axes>"
            ]
          },
          "metadata": {
            "needs_background": "light"
          }
        }
      ]
    },
    {
      "cell_type": "markdown",
      "metadata": {
        "id": "P2ixzqebVkML"
      },
      "source": [
        "## Validation set"
      ]
    },
    {
      "cell_type": "code",
      "metadata": {
        "colab": {
          "base_uri": "https://localhost:8080/"
        },
        "id": "Dh7p60ajCRyM",
        "outputId": "fea21a2c-bf2f-4b3c-ad6f-1d04e40b6403"
      },
      "source": [
        "score,acc = model.evaluate(X_val,Y_val)\n",
        "print(\"score: %.2f\" % (score))\n",
        "print(\"accuracy: %.2f\" % (acc))"
      ],
      "execution_count": 13,
      "outputs": [
        {
          "output_type": "stream",
          "name": "stdout",
          "text": [
            "2/2 [==============================] - 1s 229ms/step - loss: 0.3455 - accuracy: 0.9091\n",
            "score: 0.35\n",
            "accuracy: 0.91\n"
          ]
        }
      ]
    },
    {
      "cell_type": "markdown",
      "metadata": {
        "id": "o9iCHX3ObkRP"
      },
      "source": [
        "## Test set"
      ]
    },
    {
      "cell_type": "code",
      "metadata": {
        "colab": {
          "base_uri": "https://localhost:8080/"
        },
        "id": "9AmcD_qCcaON",
        "outputId": "078d14be-d22d-464e-81b2-ce13cf43921f"
      },
      "source": [
        "score,acc = model.evaluate(X_test,Y_test)\n",
        "print(\"score: %.2f\" % (score))\n",
        "print(\"accuracy: %.2f\" % (acc))"
      ],
      "execution_count": 19,
      "outputs": [
        {
          "output_type": "stream",
          "name": "stdout",
          "text": [
            "6/6 [==============================] - 1s 162ms/step - loss: 0.5645 - accuracy: 0.8791\n",
            "score: 0.56\n",
            "accuracy: 0.88\n"
          ]
        }
      ]
    },
    {
      "cell_type": "markdown",
      "metadata": {
        "id": "_Ib5bddtbTUT"
      },
      "source": [
        "## Predicciones - Random comments"
      ]
    },
    {
      "cell_type": "markdown",
      "metadata": {
        "id": "uEy2H2HKbexZ"
      },
      "source": [
        "Comentarios nuevos - no han pasado por el entrenamiento"
      ]
    },
    {
      "cell_type": "code",
      "metadata": {
        "id": "iemn2TjLbY3e"
      },
      "source": [
        "comments =[\n",
        "           ['love this kindle....'],\n",
        "           ['I love this collection feature. I use it and really does help me find things quickly.'],\n",
        "           ['your customer service is the absolute worst i now have a mess of books on my kindle'],\n",
        "           ['overrated product'],\n",
        "           ['My Beloved']\n",
        "]\n",
        "\n",
        "true_labels = [1,1,0,0,1]"
      ],
      "execution_count": 47,
      "outputs": []
    },
    {
      "cell_type": "code",
      "metadata": {
        "id": "v_Vd2cv1C_Q3"
      },
      "source": [
        "def make_preds(comments):\n",
        "  predicted_labels = []\n",
        "  for cmnt in comments:\n",
        "    cmnt = tokenizer.texts_to_sequences(cmnt)\n",
        "    cmnt = pad_sequences(cmnt, maxlen=203, dtype='int32', value=0)\n",
        "    print(cmnt)\n",
        "    sentiment = model.predict(cmnt,batch_size=2,verbose = 2)[0]\n",
        "    if(np.argmax(sentiment) == 0):\n",
        "        print(\"negative\")\n",
        "        predicted_labels.append(0)\n",
        "    elif (np.argmax(sentiment) == 1):\n",
        "        print(\"positive\")\n",
        "        predicted_labels.append(1)\n",
        "  return predicted_labels"
      ],
      "execution_count": 48,
      "outputs": []
    },
    {
      "cell_type": "code",
      "metadata": {
        "colab": {
          "base_uri": "https://localhost:8080/"
        },
        "id": "LChZdFC3DhEY",
        "outputId": "5611474d-712b-4d49-ad94-6d9dba3e3c28"
      },
      "source": [
        "predicted_labels = make_preds(comments)"
      ],
      "execution_count": 49,
      "outputs": [
        {
          "output_type": "stream",
          "name": "stdout",
          "text": [
            "[[ 0  0  0  0  0  0  0  0  0  0  0  0  0  0  0  0  0  0  0  0  0  0  0  0\n",
            "   0  0  0  0  0  0  0  0  0  0  0  0  0  0  0  0  0  0  0  0  0  0  0  0\n",
            "   0  0  0  0  0  0  0  0  0  0  0  0  0  0  0  0  0  0  0  0  0  0  0  0\n",
            "   0  0  0  0  0  0  0  0  0  0  0  0  0  0  0  0  0  0  0  0  0  0  0  0\n",
            "   0  0  0  0  0  0  0  0  0  0  0  0  0  0  0  0  0  0  0  0  0  0  0  0\n",
            "   0  0  0  0  0  0  0  0  0  0  0  0  0  0  0  0  0  0  0  0  0  0  0  0\n",
            "   0  0  0  0  0  0  0  0  0  0  0  0  0  0  0  0  0  0  0  0  0  0  0  0\n",
            "   0  0  0  0  0  0  0  0  0  0  0  0  0  0  0  0  0  0  0  0  0  0  0  0\n",
            "   0  0  0  0  0  0  0  0  9 17  4]]\n",
            "1/1 - 0s\n",
            "positive\n",
            "[[  0   0   0   0   0   0   0   0   0   0   0   0   0   0   0   0   0   0\n",
            "    0   0   0   0   0   0   0   0   0   0   0   0   0   0   0   0   0   0\n",
            "    0   0   0   0   0   0   0   0   0   0   0   0   0   0   0   0   0   0\n",
            "    0   0   0   0   0   0   0   0   0   0   0   0   0   0   0   0   0   0\n",
            "    0   0   0   0   0   0   0   0   0   0   0   0   0   0   0   0   0   0\n",
            "    0   0   0   0   0   0   0   0   0   0   0   0   0   0   0   0   0   0\n",
            "    0   0   0   0   0   0   0   0   0   0   0   0   0   0   0   0   0   0\n",
            "    0   0   0   0   0   0   0   0   0   0   0   0   0   0   0   0   0   0\n",
            "    0   0   0   0   0   0   0   0   0   0   0   0   0   0   0   0   0   0\n",
            "    0   0   0   0   0   0   0   0   0   0   0   0   0   0   0   0   0   0\n",
            "    0   0   0   0   0   0   0   1   9  17 220  59   1  67   8   7  85 145\n",
            "  138  25 141 152 899]]\n",
            "1/1 - 0s\n",
            "positive\n",
            "[[  0   0   0   0   0   0   0   0   0   0   0   0   0   0   0   0   0   0\n",
            "    0   0   0   0   0   0   0   0   0   0   0   0   0   0   0   0   0   0\n",
            "    0   0   0   0   0   0   0   0   0   0   0   0   0   0   0   0   0   0\n",
            "    0   0   0   0   0   0   0   0   0   0   0   0   0   0   0   0   0   0\n",
            "    0   0   0   0   0   0   0   0   0   0   0   0   0   0   0   0   0   0\n",
            "    0   0   0   0   0   0   0   0   0   0   0   0   0   0   0   0   0   0\n",
            "    0   0   0   0   0   0   0   0   0   0   0   0   0   0   0   0   0   0\n",
            "    0   0   0   0   0   0   0   0   0   0   0   0   0   0   0   0   0   0\n",
            "    0   0   0   0   0   0   0   0   0   0   0   0   0   0   0   0   0   0\n",
            "    0   0   0   0   0   0   0   0   0   0   0   0   0   0   0   0   0   0\n",
            "    0   0   0   0   0   0   0   0  49 512 674  12   2 897   1  69  11   6\n",
            "   13  16  20   3   4]]\n",
            "1/1 - 0s\n",
            "positive\n",
            "[[  0   0   0   0   0   0   0   0   0   0   0   0   0   0   0   0   0   0\n",
            "    0   0   0   0   0   0   0   0   0   0   0   0   0   0   0   0   0   0\n",
            "    0   0   0   0   0   0   0   0   0   0   0   0   0   0   0   0   0   0\n",
            "    0   0   0   0   0   0   0   0   0   0   0   0   0   0   0   0   0   0\n",
            "    0   0   0   0   0   0   0   0   0   0   0   0   0   0   0   0   0   0\n",
            "    0   0   0   0   0   0   0   0   0   0   0   0   0   0   0   0   0   0\n",
            "    0   0   0   0   0   0   0   0   0   0   0   0   0   0   0   0   0   0\n",
            "    0   0   0   0   0   0   0   0   0   0   0   0   0   0   0   0   0   0\n",
            "    0   0   0   0   0   0   0   0   0   0   0   0   0   0   0   0   0   0\n",
            "    0   0   0   0   0   0   0   0   0   0   0   0   0   0   0   0   0   0\n",
            "    0   0   0   0   0   0   0   0   0   0   0   0   0   0   0   0   0   0\n",
            "    0   0   0   0 414]]\n",
            "1/1 - 0s\n",
            "positive\n",
            "[[   0    0    0    0    0    0    0    0    0    0    0    0    0    0\n",
            "     0    0    0    0    0    0    0    0    0    0    0    0    0    0\n",
            "     0    0    0    0    0    0    0    0    0    0    0    0    0    0\n",
            "     0    0    0    0    0    0    0    0    0    0    0    0    0    0\n",
            "     0    0    0    0    0    0    0    0    0    0    0    0    0    0\n",
            "     0    0    0    0    0    0    0    0    0    0    0    0    0    0\n",
            "     0    0    0    0    0    0    0    0    0    0    0    0    0    0\n",
            "     0    0    0    0    0    0    0    0    0    0    0    0    0    0\n",
            "     0    0    0    0    0    0    0    0    0    0    0    0    0    0\n",
            "     0    0    0    0    0    0    0    0    0    0    0    0    0    0\n",
            "     0    0    0    0    0    0    0    0    0    0    0    0    0    0\n",
            "     0    0    0    0    0    0    0    0    0    0    0    0    0    0\n",
            "     0    0    0    0    0    0    0    0    0    0    0    0    0    0\n",
            "     0    0    0    0    0    0    0    0    0    0    0    0    0    0\n",
            "     0    0    0    0    0    3 1206]]\n",
            "1/1 - 0s\n",
            "positive\n"
          ]
        }
      ]
    },
    {
      "cell_type": "code",
      "metadata": {
        "colab": {
          "base_uri": "https://localhost:8080/"
        },
        "id": "XgC49FHudSCh",
        "outputId": "4f0cb4b4-cd0d-44b0-cb73-13d680422589"
      },
      "source": [
        "predicted_labels, true_labels"
      ],
      "execution_count": 33,
      "outputs": [
        {
          "output_type": "execute_result",
          "data": {
            "text/plain": [
              "([1, 1, 1, 1, 1], [1, 1, 0, 0, 1])"
            ]
          },
          "metadata": {},
          "execution_count": 33
        }
      ]
    },
    {
      "cell_type": "code",
      "metadata": {
        "colab": {
          "base_uri": "https://localhost:8080/"
        },
        "id": "nu4MeSLjdmSA",
        "outputId": "20b57145-c9c5-4b5c-bb96-3174360c14ea"
      },
      "source": [
        "f1_score(true_labels, predicted_labels, average='weighted')"
      ],
      "execution_count": 45,
      "outputs": [
        {
          "output_type": "execute_result",
          "data": {
            "text/plain": [
              "0.4499999999999999"
            ]
          },
          "metadata": {},
          "execution_count": 45
        }
      ]
    },
    {
      "cell_type": "code",
      "metadata": {
        "colab": {
          "base_uri": "https://localhost:8080/"
        },
        "id": "cC1Tua-LdzAx",
        "outputId": "fa3726d4-07a1-46e5-e8a3-2fa1c58db181"
      },
      "source": [
        "recall_score(true_labels, predicted_labels, average='weighted')"
      ],
      "execution_count": 44,
      "outputs": [
        {
          "output_type": "execute_result",
          "data": {
            "text/plain": [
              "0.6"
            ]
          },
          "metadata": {},
          "execution_count": 44
        }
      ]
    },
    {
      "cell_type": "code",
      "metadata": {
        "id": "AwFEosoXf_ET"
      },
      "source": [
        "dataset['label']= dataset['label'].astype('category')\n",
        "dataset['label']= dataset['label'].cat.codes\n",
        "fig = plt.figure(figsize=(6,6), dpi=200)\n",
        "ax = plt.subplot(111)\n",
        "dataset.label.plot(kind='pie', ax=ax, autopct='%1.1f%%', startangle=270, fontsize=17)"
      ],
      "execution_count": null,
      "outputs": []
    },
    {
      "cell_type": "markdown",
      "metadata": {
        "id": "oRczcYYpiL7f"
      },
      "source": [
        "##Conclusiones"
      ]
    },
    {
      "cell_type": "code",
      "metadata": {
        "colab": {
          "base_uri": "https://localhost:8080/",
          "height": 592
        },
        "id": "41Dvc5VQhZ1d",
        "outputId": "ff1eee32-e291-4340-92d5-cfe3aaf05485"
      },
      "source": [
        "df_stats.groupby(['label']).sum().plot(kind='pie', y='unnamed: 0' , shadow = True, startangle=180, figsize=(15,10), autopct='%1.1f%%')"
      ],
      "execution_count": 63,
      "outputs": [
        {
          "output_type": "execute_result",
          "data": {
            "text/plain": [
              "<matplotlib.axes._subplots.AxesSubplot at 0x7fa03755f7d0>"
            ]
          },
          "metadata": {},
          "execution_count": 63
        },
        {
          "output_type": "display_data",
          "data": {
            "image/png": "[encoded data removed]",
            "text/plain": [
              "<Figure size 1080x720 with 1 Axes>"
            ]
          },
          "metadata": {}
        }
      ]
    },
    {
      "cell_type": "markdown",
      "metadata": {
        "id": "rAn2OD9ljROp"
      },
      "source": [
        "- Como se puede observar en el grafico el dataset esta desbalanceado por lo tanto aparte de accuracy se calcularon otras metricas como F1, y recall.\n",
        "- Se trabajo un modelo con capas de Dropout que nos ayudo a reducir el overfitting y LSTM que es un tipo especial de redes recurrentes.\n",
        "- Al final aparte del test_set se hicieron 5 predicciones donde obtuvimos un F1 de 44%\n",
        "- Es importante tener en cuanta que no siempre los datos van a tener la forma esperada para este proyecto los dos dataset que eleji ha sido desbalanceados y posiblemente ya en la practica real sea asi por lo tanto desde ya es un problema que tengo presente\n",
        "- El preprocesamiento de datos es de las cosas que mas trabajo llevan a la hora de realizar este tipo de proyectos por suerte el dataset que use ya tenia un preprocesamiento previo aun asi era un dataset desbalanceado"
      ]
    }
  ]
}