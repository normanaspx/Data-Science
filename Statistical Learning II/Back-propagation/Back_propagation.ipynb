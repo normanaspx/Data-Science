{
  "nbformat": 4,
  "nbformat_minor": 0,
  "metadata": {
    "colab": {
      "name": "Back-propagation.ipynb",
      "provenance": []
    },
    "kernelspec": {
      "name": "python3",
      "display_name": "Python 3"
    },
    "language_info": {
      "name": "python"
    }
  },
  "cells": [
    {
      "cell_type": "markdown",
      "metadata": {
        "id": "eewQk4TwSxv4"
      },
      "source": [
        "#Backpropagation - Norman Vicente"
      ]
    },
    {
      "cell_type": "markdown",
      "metadata": {
        "id": "JsCXg66VTE6-"
      },
      "source": [
        "<img src=\"https://miro.medium.com/max/2000/1*LB10KFg5J7yK1MLxTXcLdQ.jpeg\" />"
      ]
    },
    {
      "cell_type": "code",
      "metadata": {
        "id": "-J1FnarBSssM"
      },
      "source": [
        "import numpy as np\n",
        "import pandas as pd"
      ],
      "execution_count": 26,
      "outputs": []
    },
    {
      "cell_type": "code",
      "metadata": {
        "id": "z8zz5cPgTe9q"
      },
      "source": [
        "def activation(x):\n",
        "    return 1/(1 + np.exp(-x))\n",
        "\n",
        "def dx(x):\n",
        "    return np.multiply(x , (1 - x))"
      ],
      "execution_count": 111,
      "outputs": []
    },
    {
      "cell_type": "code",
      "metadata": {
        "id": "kLBLuTHqUERE"
      },
      "source": [
        "entries = np.matrix([[1,1,1],[1,0,1],[0,1,1],[0,0,1]])\n",
        "y_true = np.array([[1],[0],[1],[0]])"
      ],
      "execution_count": 112,
      "outputs": []
    },
    {
      "cell_type": "code",
      "metadata": {
        "id": "SMYbkzU5UHXv"
      },
      "source": [
        "hidden_weights = np.random.randn(3,3)*np.sqrt(1/3)\n",
        "output_weights = np.random.uniform(size=(3,1))"
      ],
      "execution_count": 113,
      "outputs": []
    },
    {
      "cell_type": "code",
      "metadata": {
        "id": "AUAUc2_fUKLS"
      },
      "source": [
        "def backprop(epochs,lr,inputs,hidd_lay,output_weights,y_true):\n",
        "    arrayIters = []\n",
        "    arrayError = []\n",
        "    predictions = 0\n",
        "    i=0\n",
        "    while i < epochs:\n",
        "        activation_hidden = np.dot(inputs,hidd_lay)\n",
        "        hidden_layer_output = activation(activation_hidden)\n",
        "        output_layer_activation = np.dot(hidden_layer_output,output_weights)\n",
        "        predicted_output = activation(output_layer_activation)\n",
        "        predictions = predicted_output\n",
        "        #error\n",
        "        error = y_true - predicted_output\n",
        "\n",
        "        d_predicted_output = np.multiply(error , dx(predicted_output))\n",
        "        error_hidden_layer = d_predicted_output.dot(output_weights.T) \n",
        "        \n",
        "        #hidden layers\n",
        "        d_hidden_layer = np.multiply(error_hidden_layer , dx(hidden_layer_output))\n",
        "        output_weights += hidden_layer_output.T.dot(d_predicted_output) * lr\n",
        "        hidd_lay += inputs.T.dot(d_hidden_layer) * lr\n",
        "\n",
        "        arrayIters.append(i)\n",
        "        arrayError.append(error.flatten())\n",
        "        i=i+1\n",
        "\n",
        "    log = pd.DataFrame({'Iter':arrayIters, 'Errores': arrayError })\n",
        "    return log, predicted_output"
      ],
      "execution_count": 114,
      "outputs": []
    },
    {
      "cell_type": "markdown",
      "metadata": {
        "id": "089xyxfrV6mQ"
      },
      "source": [
        "#Experimento I"
      ]
    },
    {
      "cell_type": "code",
      "metadata": {
        "id": "0wi2BeInUM0d"
      },
      "source": [
        "df, preds = backprop(100,0.1,entries,hidden_weights,output_weights,y_true)"
      ],
      "execution_count": 115,
      "outputs": []
    },
    {
      "cell_type": "markdown",
      "metadata": {
        "id": "fYXDTiRQVtMF"
      },
      "source": [
        "##Error en iteraciones"
      ]
    },
    {
      "cell_type": "code",
      "metadata": {
        "colab": {
          "base_uri": "https://localhost:8080/",
          "height": 419
        },
        "id": "7s94NoNFUPCS",
        "outputId": "b9dd93bc-333f-45fe-cc33-cb114724eb9e"
      },
      "source": [
        "df"
      ],
      "execution_count": 116,
      "outputs": [
        {
          "output_type": "execute_result",
          "data": {
            "text/html": [
              "<div>\n",
              "<style scoped>\n",
              "    .dataframe tbody tr th:only-of-type {\n",
              "        vertical-align: middle;\n",
              "    }\n",
              "\n",
              "    .dataframe tbody tr th {\n",
              "        vertical-align: top;\n",
              "    }\n",
              "\n",
              "    .dataframe thead th {\n",
              "        text-align: right;\n",
              "    }\n",
              "</style>\n",
              "<table border=\"1\" class=\"dataframe\">\n",
              "  <thead>\n",
              "    <tr style=\"text-align: right;\">\n",
              "      <th></th>\n",
              "      <th>Iter</th>\n",
              "      <th>Errores</th>\n",
              "    </tr>\n",
              "  </thead>\n",
              "  <tbody>\n",
              "    <tr>\n",
              "      <th>0</th>\n",
              "      <td>0</td>\n",
              "      <td>[[[[[ 0.39037024 -0.6568229   0.3999581  -0.64...</td>\n",
              "    </tr>\n",
              "    <tr>\n",
              "      <th>1</th>\n",
              "      <td>1</td>\n",
              "      <td>[[[[[ 0.39320454 -0.65324051  0.40209049 -0.64...</td>\n",
              "    </tr>\n",
              "    <tr>\n",
              "      <th>2</th>\n",
              "      <td>2</td>\n",
              "      <td>[[[[[ 0.39601029 -0.64968794  0.40420252 -0.63...</td>\n",
              "    </tr>\n",
              "    <tr>\n",
              "      <th>3</th>\n",
              "      <td>3</td>\n",
              "      <td>[[[[[ 0.39878688 -0.64616631  0.40629379 -0.63...</td>\n",
              "    </tr>\n",
              "    <tr>\n",
              "      <th>4</th>\n",
              "      <td>4</td>\n",
              "      <td>[[[[[ 0.40153374 -0.64267667  0.40836393 -0.63...</td>\n",
              "    </tr>\n",
              "    <tr>\n",
              "      <th>...</th>\n",
              "      <td>...</td>\n",
              "      <td>...</td>\n",
              "    </tr>\n",
              "    <tr>\n",
              "      <th>95</th>\n",
              "      <td>95</td>\n",
              "      <td>[[[[[ 0.53218901 -0.46956167  0.51051409 -0.48...</td>\n",
              "    </tr>\n",
              "    <tr>\n",
              "      <th>96</th>\n",
              "      <td>96</td>\n",
              "      <td>[[[[[ 0.53271467 -0.46878648  0.51095581 -0.48...</td>\n",
              "    </tr>\n",
              "    <tr>\n",
              "      <th>97</th>\n",
              "      <td>97</td>\n",
              "      <td>[[[[[ 0.53322972 -0.46802423  0.51138918 -0.48...</td>\n",
              "    </tr>\n",
              "    <tr>\n",
              "      <th>98</th>\n",
              "      <td>98</td>\n",
              "      <td>[[[[[ 0.53373437 -0.46727464  0.51181436 -0.48...</td>\n",
              "    </tr>\n",
              "    <tr>\n",
              "      <th>99</th>\n",
              "      <td>99</td>\n",
              "      <td>[[[[[ 0.53422882 -0.46653743  0.51223151 -0.48...</td>\n",
              "    </tr>\n",
              "  </tbody>\n",
              "</table>\n",
              "<p>100 rows × 2 columns</p>\n",
              "</div>"
            ],
            "text/plain": [
              "    Iter                                            Errores\n",
              "0      0  [[[[[ 0.39037024 -0.6568229   0.3999581  -0.64...\n",
              "1      1  [[[[[ 0.39320454 -0.65324051  0.40209049 -0.64...\n",
              "2      2  [[[[[ 0.39601029 -0.64968794  0.40420252 -0.63...\n",
              "3      3  [[[[[ 0.39878688 -0.64616631  0.40629379 -0.63...\n",
              "4      4  [[[[[ 0.40153374 -0.64267667  0.40836393 -0.63...\n",
              "..   ...                                                ...\n",
              "95    95  [[[[[ 0.53218901 -0.46956167  0.51051409 -0.48...\n",
              "96    96  [[[[[ 0.53271467 -0.46878648  0.51095581 -0.48...\n",
              "97    97  [[[[[ 0.53322972 -0.46802423  0.51138918 -0.48...\n",
              "98    98  [[[[[ 0.53373437 -0.46727464  0.51181436 -0.48...\n",
              "99    99  [[[[[ 0.53422882 -0.46653743  0.51223151 -0.48...\n",
              "\n",
              "[100 rows x 2 columns]"
            ]
          },
          "metadata": {},
          "execution_count": 116
        }
      ]
    },
    {
      "cell_type": "code",
      "metadata": {
        "colab": {
          "base_uri": "https://localhost:8080/"
        },
        "id": "1NLc7QUJVxbm",
        "outputId": "637a554a-c470-47d7-fa82-1d65d1cd8877"
      },
      "source": [
        "print(\"y Pred:\",preds.T, \"y True:\", y_true.T)"
      ],
      "execution_count": 146,
      "outputs": [
        {
          "output_type": "stream",
          "name": "stdout",
          "text": [
            "y Pred: [[0.72797628 0.73758299 0.82010612 0.82245982]] y True: [[1 0 1 0]]\n"
          ]
        }
      ]
    },
    {
      "cell_type": "markdown",
      "metadata": {
        "id": "34qg0-iAV-La"
      },
      "source": [
        "#Experimento II"
      ]
    },
    {
      "cell_type": "code",
      "metadata": {
        "id": "qM8_N4IFV0LQ"
      },
      "source": [
        "hidden_weights = np.random.randn(3,3)*np.sqrt(1/2)\n",
        "output_weights = np.random.uniform(size=(3,1))\n",
        "df, preds = backprop(100,0.001,entries,hidden_weights,output_weights,y_true)"
      ],
      "execution_count": 118,
      "outputs": []
    },
    {
      "cell_type": "code",
      "metadata": {
        "colab": {
          "base_uri": "https://localhost:8080/",
          "height": 419
        },
        "id": "Vx6Ls_usWPnv",
        "outputId": "2b138879-b34c-4e53-9ec1-c55dc83766cf"
      },
      "source": [
        "df"
      ],
      "execution_count": 119,
      "outputs": [
        {
          "output_type": "execute_result",
          "data": {
            "text/html": [
              "<div>\n",
              "<style scoped>\n",
              "    .dataframe tbody tr th:only-of-type {\n",
              "        vertical-align: middle;\n",
              "    }\n",
              "\n",
              "    .dataframe tbody tr th {\n",
              "        vertical-align: top;\n",
              "    }\n",
              "\n",
              "    .dataframe thead th {\n",
              "        text-align: right;\n",
              "    }\n",
              "</style>\n",
              "<table border=\"1\" class=\"dataframe\">\n",
              "  <thead>\n",
              "    <tr style=\"text-align: right;\">\n",
              "      <th></th>\n",
              "      <th>Iter</th>\n",
              "      <th>Errores</th>\n",
              "    </tr>\n",
              "  </thead>\n",
              "  <tbody>\n",
              "    <tr>\n",
              "      <th>0</th>\n",
              "      <td>0</td>\n",
              "      <td>[[[[[ 0.29832647 -0.67168273  0.26408861 -0.70...</td>\n",
              "    </tr>\n",
              "    <tr>\n",
              "      <th>1</th>\n",
              "      <td>1</td>\n",
              "      <td>[[[[[ 0.29835905 -0.6716537   0.26412137 -0.70...</td>\n",
              "    </tr>\n",
              "    <tr>\n",
              "      <th>2</th>\n",
              "      <td>2</td>\n",
              "      <td>[[[[[ 0.29839162 -0.67162468  0.26415413 -0.70...</td>\n",
              "    </tr>\n",
              "    <tr>\n",
              "      <th>3</th>\n",
              "      <td>3</td>\n",
              "      <td>[[[[[ 0.29842419 -0.67159566  0.26418688 -0.70...</td>\n",
              "    </tr>\n",
              "    <tr>\n",
              "      <th>4</th>\n",
              "      <td>4</td>\n",
              "      <td>[[[[[ 0.29845675 -0.67156665  0.26421964 -0.70...</td>\n",
              "    </tr>\n",
              "    <tr>\n",
              "      <th>...</th>\n",
              "      <td>...</td>\n",
              "      <td>...</td>\n",
              "    </tr>\n",
              "    <tr>\n",
              "      <th>95</th>\n",
              "      <td>95</td>\n",
              "      <td>[[[[[ 0.30140048 -0.66894608  0.26718422 -0.70...</td>\n",
              "    </tr>\n",
              "    <tr>\n",
              "      <th>96</th>\n",
              "      <td>96</td>\n",
              "      <td>[[[[[ 0.30143261 -0.66891749  0.26721662 -0.70...</td>\n",
              "    </tr>\n",
              "    <tr>\n",
              "      <th>97</th>\n",
              "      <td>97</td>\n",
              "      <td>[[[[[ 0.30146474 -0.66888892  0.26724902 -0.70...</td>\n",
              "    </tr>\n",
              "    <tr>\n",
              "      <th>98</th>\n",
              "      <td>98</td>\n",
              "      <td>[[[[[ 0.30149686 -0.66886034  0.26728141 -0.70...</td>\n",
              "    </tr>\n",
              "    <tr>\n",
              "      <th>99</th>\n",
              "      <td>99</td>\n",
              "      <td>[[[[[ 0.30152898 -0.66883177  0.2673138  -0.70...</td>\n",
              "    </tr>\n",
              "  </tbody>\n",
              "</table>\n",
              "<p>100 rows × 2 columns</p>\n",
              "</div>"
            ],
            "text/plain": [
              "    Iter                                            Errores\n",
              "0      0  [[[[[ 0.29832647 -0.67168273  0.26408861 -0.70...\n",
              "1      1  [[[[[ 0.29835905 -0.6716537   0.26412137 -0.70...\n",
              "2      2  [[[[[ 0.29839162 -0.67162468  0.26415413 -0.70...\n",
              "3      3  [[[[[ 0.29842419 -0.67159566  0.26418688 -0.70...\n",
              "4      4  [[[[[ 0.29845675 -0.67156665  0.26421964 -0.70...\n",
              "..   ...                                                ...\n",
              "95    95  [[[[[ 0.30140048 -0.66894608  0.26718422 -0.70...\n",
              "96    96  [[[[[ 0.30143261 -0.66891749  0.26721662 -0.70...\n",
              "97    97  [[[[[ 0.30146474 -0.66888892  0.26724902 -0.70...\n",
              "98    98  [[[[[ 0.30149686 -0.66886034  0.26728141 -0.70...\n",
              "99    99  [[[[[ 0.30152898 -0.66883177  0.2673138  -0.70...\n",
              "\n",
              "[100 rows x 2 columns]"
            ]
          },
          "metadata": {},
          "execution_count": 119
        }
      ]
    },
    {
      "cell_type": "code",
      "metadata": {
        "colab": {
          "base_uri": "https://localhost:8080/"
        },
        "id": "YGixSZNoWT6d",
        "outputId": "48d509fb-79b4-49ea-f097-dcb68ea69056"
      },
      "source": [
        "preds.T"
      ],
      "execution_count": 136,
      "outputs": [
        {
          "output_type": "execute_result",
          "data": {
            "text/plain": [
              "matrix([[0.72797628, 0.73758299, 0.82010612, 0.82245982]])"
            ]
          },
          "metadata": {},
          "execution_count": 136
        }
      ]
    },
    {
      "cell_type": "code",
      "metadata": {
        "colab": {
          "base_uri": "https://localhost:8080/"
        },
        "id": "ZsIMoC3_Y6gt",
        "outputId": "0d823922-12dd-495d-b525-fbbe4738c3d5"
      },
      "source": [
        "print(\"y Pred:\",preds.T, \"y True:\", y_true.T)"
      ],
      "execution_count": 145,
      "outputs": [
        {
          "output_type": "stream",
          "name": "stdout",
          "text": [
            "y Pred: [[0.72797628 0.73758299 0.82010612 0.82245982]] y True: [[1 0 1 0]]\n"
          ]
        }
      ]
    },
    {
      "cell_type": "markdown",
      "metadata": {
        "id": "MKzqEcDZWdVU"
      },
      "source": [
        "#Experimento III"
      ]
    },
    {
      "cell_type": "code",
      "metadata": {
        "id": "D1O569ZbWVZC"
      },
      "source": [
        "hidden_weights = np.random.randn(3,3)*np.sqrt(1/5)\n",
        "output_weights = np.random.uniform(size=(3,1))\n",
        "df, preds = backprop(100,0.001,entries,hidden_weights,output_weights,y_true)"
      ],
      "execution_count": 121,
      "outputs": []
    },
    {
      "cell_type": "code",
      "metadata": {
        "colab": {
          "base_uri": "https://localhost:8080/",
          "height": 419
        },
        "id": "YBA68HuRWg2D",
        "outputId": "56b92f63-564e-4d8f-f9db-b16de735daae"
      },
      "source": [
        "df"
      ],
      "execution_count": 122,
      "outputs": [
        {
          "output_type": "execute_result",
          "data": {
            "text/html": [
              "<div>\n",
              "<style scoped>\n",
              "    .dataframe tbody tr th:only-of-type {\n",
              "        vertical-align: middle;\n",
              "    }\n",
              "\n",
              "    .dataframe tbody tr th {\n",
              "        vertical-align: top;\n",
              "    }\n",
              "\n",
              "    .dataframe thead th {\n",
              "        text-align: right;\n",
              "    }\n",
              "</style>\n",
              "<table border=\"1\" class=\"dataframe\">\n",
              "  <thead>\n",
              "    <tr style=\"text-align: right;\">\n",
              "      <th></th>\n",
              "      <th>Iter</th>\n",
              "      <th>Errores</th>\n",
              "    </tr>\n",
              "  </thead>\n",
              "  <tbody>\n",
              "    <tr>\n",
              "      <th>0</th>\n",
              "      <td>0</td>\n",
              "      <td>[[[[[ 0.31306652 -0.67811268  0.31305676 -0.67...</td>\n",
              "    </tr>\n",
              "    <tr>\n",
              "      <th>1</th>\n",
              "      <td>1</td>\n",
              "      <td>[[[[[ 0.31309709 -0.67808072  0.31308716 -0.67...</td>\n",
              "    </tr>\n",
              "    <tr>\n",
              "      <th>2</th>\n",
              "      <td>2</td>\n",
              "      <td>[[[[[ 0.31312766 -0.67804876  0.31311755 -0.67...</td>\n",
              "    </tr>\n",
              "    <tr>\n",
              "      <th>3</th>\n",
              "      <td>3</td>\n",
              "      <td>[[[[[ 0.31315822 -0.6780168   0.31314794 -0.67...</td>\n",
              "    </tr>\n",
              "    <tr>\n",
              "      <th>4</th>\n",
              "      <td>4</td>\n",
              "      <td>[[[[[ 0.31318878 -0.67798485  0.31317833 -0.67...</td>\n",
              "    </tr>\n",
              "    <tr>\n",
              "      <th>...</th>\n",
              "      <td>...</td>\n",
              "      <td>...</td>\n",
              "    </tr>\n",
              "    <tr>\n",
              "      <th>95</th>\n",
              "      <td>95</td>\n",
              "      <td>[[[[[ 0.31595468 -0.67509287  0.31593004 -0.67...</td>\n",
              "    </tr>\n",
              "    <tr>\n",
              "      <th>96</th>\n",
              "      <td>96</td>\n",
              "      <td>[[[[[ 0.31598491 -0.67506127  0.31596013 -0.67...</td>\n",
              "    </tr>\n",
              "    <tr>\n",
              "      <th>97</th>\n",
              "      <td>97</td>\n",
              "      <td>[[[[[ 0.31601514 -0.67502966  0.31599021 -0.67...</td>\n",
              "    </tr>\n",
              "    <tr>\n",
              "      <th>98</th>\n",
              "      <td>98</td>\n",
              "      <td>[[[[[ 0.31604536 -0.67499806  0.31602029 -0.67...</td>\n",
              "    </tr>\n",
              "    <tr>\n",
              "      <th>99</th>\n",
              "      <td>99</td>\n",
              "      <td>[[[[[ 0.31607558 -0.67496647  0.31605037 -0.67...</td>\n",
              "    </tr>\n",
              "  </tbody>\n",
              "</table>\n",
              "<p>100 rows × 2 columns</p>\n",
              "</div>"
            ],
            "text/plain": [
              "    Iter                                            Errores\n",
              "0      0  [[[[[ 0.31306652 -0.67811268  0.31305676 -0.67...\n",
              "1      1  [[[[[ 0.31309709 -0.67808072  0.31308716 -0.67...\n",
              "2      2  [[[[[ 0.31312766 -0.67804876  0.31311755 -0.67...\n",
              "3      3  [[[[[ 0.31315822 -0.6780168   0.31314794 -0.67...\n",
              "4      4  [[[[[ 0.31318878 -0.67798485  0.31317833 -0.67...\n",
              "..   ...                                                ...\n",
              "95    95  [[[[[ 0.31595468 -0.67509287  0.31593004 -0.67...\n",
              "96    96  [[[[[ 0.31598491 -0.67506127  0.31596013 -0.67...\n",
              "97    97  [[[[[ 0.31601514 -0.67502966  0.31599021 -0.67...\n",
              "98    98  [[[[[ 0.31604536 -0.67499806  0.31602029 -0.67...\n",
              "99    99  [[[[[ 0.31607558 -0.67496647  0.31605037 -0.67...\n",
              "\n",
              "[100 rows x 2 columns]"
            ]
          },
          "metadata": {},
          "execution_count": 122
        }
      ]
    },
    {
      "cell_type": "code",
      "metadata": {
        "colab": {
          "base_uri": "https://localhost:8080/"
        },
        "id": "yianjIP-Wh6J",
        "outputId": "817d5b4d-3059-4b37-8cee-9793d3fd2993"
      },
      "source": [
        "print(\"y Pred:\",preds.T, \"y True:\", y_true.T)"
      ],
      "execution_count": 144,
      "outputs": [
        {
          "output_type": "stream",
          "name": "stdout",
          "text": [
            "y Pred: [[0.72797628 0.73758299 0.82010612 0.82245982]] y True: [[1 0 1 0]]\n"
          ]
        }
      ]
    },
    {
      "cell_type": "markdown",
      "metadata": {
        "id": "XqT9ulBAW4KH"
      },
      "source": [
        "#Experimento IV"
      ]
    },
    {
      "cell_type": "code",
      "metadata": {
        "id": "64Xwt5aKWihs"
      },
      "source": [
        "hidden_weights = np.random.randn(3,3)*np.sqrt(3)\n",
        "output_weights = np.random.uniform(size=(3,1))\n",
        "df, preds = backprop(150,0.005,entries,hidden_weights,output_weights,y_true)"
      ],
      "execution_count": 130,
      "outputs": []
    },
    {
      "cell_type": "code",
      "metadata": {
        "colab": {
          "base_uri": "https://localhost:8080/",
          "height": 419
        },
        "id": "JcTULFM3W93t",
        "outputId": "8ced736b-4053-4d3a-cee4-763649b2b428"
      },
      "source": [
        "df"
      ],
      "execution_count": 131,
      "outputs": [
        {
          "output_type": "execute_result",
          "data": {
            "text/html": [
              "<div>\n",
              "<style scoped>\n",
              "    .dataframe tbody tr th:only-of-type {\n",
              "        vertical-align: middle;\n",
              "    }\n",
              "\n",
              "    .dataframe tbody tr th {\n",
              "        vertical-align: top;\n",
              "    }\n",
              "\n",
              "    .dataframe thead th {\n",
              "        text-align: right;\n",
              "    }\n",
              "</style>\n",
              "<table border=\"1\" class=\"dataframe\">\n",
              "  <thead>\n",
              "    <tr style=\"text-align: right;\">\n",
              "      <th></th>\n",
              "      <th>Iter</th>\n",
              "      <th>Errores</th>\n",
              "    </tr>\n",
              "  </thead>\n",
              "  <tbody>\n",
              "    <tr>\n",
              "      <th>0</th>\n",
              "      <td>0</td>\n",
              "      <td>[[[[[ 0.23757731 -0.77289754  0.14666076 -0.85...</td>\n",
              "    </tr>\n",
              "    <tr>\n",
              "      <th>1</th>\n",
              "      <td>1</td>\n",
              "      <td>[[[[[ 0.23779684 -0.77267345  0.14686314 -0.85...</td>\n",
              "    </tr>\n",
              "    <tr>\n",
              "      <th>2</th>\n",
              "      <td>2</td>\n",
              "      <td>[[[[[ 0.23801656 -0.77244917  0.14706579 -0.85...</td>\n",
              "    </tr>\n",
              "    <tr>\n",
              "      <th>3</th>\n",
              "      <td>3</td>\n",
              "      <td>[[[[[ 0.23823644 -0.7722247   0.14726872 -0.85...</td>\n",
              "    </tr>\n",
              "    <tr>\n",
              "      <th>4</th>\n",
              "      <td>4</td>\n",
              "      <td>[[[[[ 0.2384565  -0.77200004  0.14747194 -0.85...</td>\n",
              "    </tr>\n",
              "    <tr>\n",
              "      <th>...</th>\n",
              "      <td>...</td>\n",
              "      <td>...</td>\n",
              "    </tr>\n",
              "    <tr>\n",
              "      <th>145</th>\n",
              "      <td>145</td>\n",
              "      <td>[[[[[ 0.27105917 -0.73857576  0.17892306 -0.82...</td>\n",
              "    </tr>\n",
              "    <tr>\n",
              "      <th>146</th>\n",
              "      <td>146</td>\n",
              "      <td>[[[[[ 0.27130014 -0.73832776  0.17916538 -0.82...</td>\n",
              "    </tr>\n",
              "    <tr>\n",
              "      <th>147</th>\n",
              "      <td>147</td>\n",
              "      <td>[[[[[ 0.27154122 -0.73807963  0.17940796 -0.82...</td>\n",
              "    </tr>\n",
              "    <tr>\n",
              "      <th>148</th>\n",
              "      <td>148</td>\n",
              "      <td>[[[[[ 0.27178241 -0.73783138  0.17965079 -0.82...</td>\n",
              "    </tr>\n",
              "    <tr>\n",
              "      <th>149</th>\n",
              "      <td>149</td>\n",
              "      <td>[[[[[ 0.27202372 -0.73758299  0.17989388 -0.82...</td>\n",
              "    </tr>\n",
              "  </tbody>\n",
              "</table>\n",
              "<p>150 rows × 2 columns</p>\n",
              "</div>"
            ],
            "text/plain": [
              "     Iter                                            Errores\n",
              "0       0  [[[[[ 0.23757731 -0.77289754  0.14666076 -0.85...\n",
              "1       1  [[[[[ 0.23779684 -0.77267345  0.14686314 -0.85...\n",
              "2       2  [[[[[ 0.23801656 -0.77244917  0.14706579 -0.85...\n",
              "3       3  [[[[[ 0.23823644 -0.7722247   0.14726872 -0.85...\n",
              "4       4  [[[[[ 0.2384565  -0.77200004  0.14747194 -0.85...\n",
              "..    ...                                                ...\n",
              "145   145  [[[[[ 0.27105917 -0.73857576  0.17892306 -0.82...\n",
              "146   146  [[[[[ 0.27130014 -0.73832776  0.17916538 -0.82...\n",
              "147   147  [[[[[ 0.27154122 -0.73807963  0.17940796 -0.82...\n",
              "148   148  [[[[[ 0.27178241 -0.73783138  0.17965079 -0.82...\n",
              "149   149  [[[[[ 0.27202372 -0.73758299  0.17989388 -0.82...\n",
              "\n",
              "[150 rows x 2 columns]"
            ]
          },
          "metadata": {},
          "execution_count": 131
        }
      ]
    },
    {
      "cell_type": "code",
      "metadata": {
        "colab": {
          "base_uri": "https://localhost:8080/"
        },
        "id": "Ez9v415cXCYs",
        "outputId": "3f3d1887-54ab-4116-920d-02ab79856c4e"
      },
      "source": [
        "print(\"y Pred:\",preds.T, \"y True:\", y_true.T)"
      ],
      "execution_count": 147,
      "outputs": [
        {
          "output_type": "stream",
          "name": "stdout",
          "text": [
            "y Pred: [[0.72797628 0.73758299 0.82010612 0.82245982]] y True: [[1 0 1 0]]\n"
          ]
        }
      ]
    },
    {
      "cell_type": "markdown",
      "metadata": {
        "id": "7mSGp93VXLct"
      },
      "source": [
        "#Experimento V"
      ]
    },
    {
      "cell_type": "code",
      "metadata": {
        "id": "3m67Ie0jXDNy"
      },
      "source": [
        "hidden_weights = np.random.randn(3,3)*np.sqrt(2/1)\n",
        "output_weights = np.random.uniform(size=(3,1))\n",
        "df, preds = backprop(150,0.005,entries,hidden_weights,output_weights,y_true)"
      ],
      "execution_count": 127,
      "outputs": []
    },
    {
      "cell_type": "code",
      "metadata": {
        "colab": {
          "base_uri": "https://localhost:8080/",
          "height": 419
        },
        "id": "pMLYYsmBXQA7",
        "outputId": "3b6ef5ef-b861-4d9c-a8cb-90019be53e30"
      },
      "source": [
        "df"
      ],
      "execution_count": 128,
      "outputs": [
        {
          "output_type": "execute_result",
          "data": {
            "text/html": [
              "<div>\n",
              "<style scoped>\n",
              "    .dataframe tbody tr th:only-of-type {\n",
              "        vertical-align: middle;\n",
              "    }\n",
              "\n",
              "    .dataframe tbody tr th {\n",
              "        vertical-align: top;\n",
              "    }\n",
              "\n",
              "    .dataframe thead th {\n",
              "        text-align: right;\n",
              "    }\n",
              "</style>\n",
              "<table border=\"1\" class=\"dataframe\">\n",
              "  <thead>\n",
              "    <tr style=\"text-align: right;\">\n",
              "      <th></th>\n",
              "      <th>Iter</th>\n",
              "      <th>Errores</th>\n",
              "    </tr>\n",
              "  </thead>\n",
              "  <tbody>\n",
              "    <tr>\n",
              "      <th>0</th>\n",
              "      <td>0</td>\n",
              "      <td>[[[[[ 0.38963699 -0.58626785  0.38668824 -0.57...</td>\n",
              "    </tr>\n",
              "    <tr>\n",
              "      <th>1</th>\n",
              "      <td>1</td>\n",
              "      <td>[[[[[ 0.38964865 -0.58624351  0.38667674 -0.57...</td>\n",
              "    </tr>\n",
              "    <tr>\n",
              "      <th>2</th>\n",
              "      <td>2</td>\n",
              "      <td>[[[[[ 0.3896603  -0.58621919  0.38666524 -0.57...</td>\n",
              "    </tr>\n",
              "    <tr>\n",
              "      <th>3</th>\n",
              "      <td>3</td>\n",
              "      <td>[[[[[ 0.38967194 -0.58619488  0.38665373 -0.57...</td>\n",
              "    </tr>\n",
              "    <tr>\n",
              "      <th>4</th>\n",
              "      <td>4</td>\n",
              "      <td>[[[[[ 0.38968356 -0.58617058  0.3866422  -0.57...</td>\n",
              "    </tr>\n",
              "    <tr>\n",
              "      <th>...</th>\n",
              "      <td>...</td>\n",
              "      <td>...</td>\n",
              "    </tr>\n",
              "    <tr>\n",
              "      <th>145</th>\n",
              "      <td>145</td>\n",
              "      <td>[[[[[ 0.39121111 -0.58285149  0.38493043 -0.57...</td>\n",
              "    </tr>\n",
              "    <tr>\n",
              "      <th>146</th>\n",
              "      <td>146</td>\n",
              "      <td>[[[[[ 0.39122117 -0.58282868  0.38491769 -0.57...</td>\n",
              "    </tr>\n",
              "    <tr>\n",
              "      <th>147</th>\n",
              "      <td>147</td>\n",
              "      <td>[[[[[ 0.39123122 -0.58280589  0.38490494 -0.57...</td>\n",
              "    </tr>\n",
              "    <tr>\n",
              "      <th>148</th>\n",
              "      <td>148</td>\n",
              "      <td>[[[[[ 0.39124126 -0.5827831   0.38489218 -0.57...</td>\n",
              "    </tr>\n",
              "    <tr>\n",
              "      <th>149</th>\n",
              "      <td>149</td>\n",
              "      <td>[[[[[ 0.39125129 -0.58276033  0.38487942 -0.57...</td>\n",
              "    </tr>\n",
              "  </tbody>\n",
              "</table>\n",
              "<p>150 rows × 2 columns</p>\n",
              "</div>"
            ],
            "text/plain": [
              "     Iter                                            Errores\n",
              "0       0  [[[[[ 0.38963699 -0.58626785  0.38668824 -0.57...\n",
              "1       1  [[[[[ 0.38964865 -0.58624351  0.38667674 -0.57...\n",
              "2       2  [[[[[ 0.3896603  -0.58621919  0.38666524 -0.57...\n",
              "3       3  [[[[[ 0.38967194 -0.58619488  0.38665373 -0.57...\n",
              "4       4  [[[[[ 0.38968356 -0.58617058  0.3866422  -0.57...\n",
              "..    ...                                                ...\n",
              "145   145  [[[[[ 0.39121111 -0.58285149  0.38493043 -0.57...\n",
              "146   146  [[[[[ 0.39122117 -0.58282868  0.38491769 -0.57...\n",
              "147   147  [[[[[ 0.39123122 -0.58280589  0.38490494 -0.57...\n",
              "148   148  [[[[[ 0.39124126 -0.5827831   0.38489218 -0.57...\n",
              "149   149  [[[[[ 0.39125129 -0.58276033  0.38487942 -0.57...\n",
              "\n",
              "[150 rows x 2 columns]"
            ]
          },
          "metadata": {},
          "execution_count": 128
        }
      ]
    },
    {
      "cell_type": "code",
      "metadata": {
        "colab": {
          "base_uri": "https://localhost:8080/"
        },
        "id": "jbe4PZmUXREH",
        "outputId": "bf349ab4-f8b2-4ce7-cacd-0ed76ee96808"
      },
      "source": [
        "print(\"y Pred:\",preds.T, \"y True:\", y_true.T)"
      ],
      "execution_count": 148,
      "outputs": [
        {
          "output_type": "stream",
          "name": "stdout",
          "text": [
            "y Pred: [[0.72797628 0.73758299 0.82010612 0.82245982]] y True: [[1 0 1 0]]\n"
          ]
        }
      ]
    },
    {
      "cell_type": "markdown",
      "metadata": {
        "id": "KuBWDMBqXmUx"
      },
      "source": [
        "##Conclusiones"
      ]
    },
    {
      "cell_type": "markdown",
      "metadata": {
        "id": "tWK4c64pXpo5"
      },
      "source": [
        "- Me parece bien que podamos implementar estos algoritmos por lo menos una vez a mano ya que podemos entender mejor como es que funcionan ya que son conceptos fundamentales en deep learning\n",
        "- El experimento #3 fue el que mejor estuvo en cuanto a las predicciones"
      ]
    }
  ]
}