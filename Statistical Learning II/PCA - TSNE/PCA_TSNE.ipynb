{
  "nbformat": 4,
  "nbformat_minor": 0,
  "metadata": {
    "colab": {
      "name": "PCA - TSNE.ipynb",
      "provenance": []
    },
    "kernelspec": {
      "display_name": "Python 3",
      "name": "python3"
    },
    "language_info": {
      "name": "python"
    }
  },
  "cells": [
    {
      "cell_type": "markdown",
      "metadata": {
        "id": "lsVlecgkbj9Q"
      },
      "source": [
        "#PCA - TSNE (Norman Vicente)"
      ]
    },
    {
      "cell_type": "code",
      "metadata": {
        "id": "hwz2nE0k5JpO"
      },
      "source": [
        "from tensorflow import keras\n",
        "import numpy as np\n",
        "import matplotlib.pyplot as plt\n",
        "from sklearn.decomposition import PCA\n",
        "from sklearn.preprocessing import scale\n",
        "from scipy.linalg import svd\n",
        "from sklearn.cluster import KMeans\n",
        "from sklearn.manifold import TSNE"
      ],
      "execution_count": 4,
      "outputs": []
    },
    {
      "cell_type": "code",
      "metadata": {
        "id": "pGkT9wq65Nx-",
        "colab": {
          "base_uri": "https://localhost:8080/"
        },
        "outputId": "a46424bf-5063-42e3-b3e3-f9ddc4d16593"
      },
      "source": [
        "fashion_mnist = keras.datasets.fashion_mnist\n",
        "(train_images, train_labels), (test_images, test_labels) = fashion_mnist.load_data()"
      ],
      "execution_count": 5,
      "outputs": [
        {
          "output_type": "stream",
          "text": [
            "Downloading data from https://storage.googleapis.com/tensorflow/tf-keras-datasets/train-labels-idx1-ubyte.gz\n",
            "32768/29515 [=================================] - 0s 0us/step\n",
            "Downloading data from https://storage.googleapis.com/tensorflow/tf-keras-datasets/train-images-idx3-ubyte.gz\n",
            "26427392/26421880 [==============================] - 0s 0us/step\n",
            "Downloading data from https://storage.googleapis.com/tensorflow/tf-keras-datasets/t10k-labels-idx1-ubyte.gz\n",
            "8192/5148 [===============================================] - 0s 0us/step\n",
            "Downloading data from https://storage.googleapis.com/tensorflow/tf-keras-datasets/t10k-images-idx3-ubyte.gz\n",
            "4423680/4422102 [==============================] - 0s 0us/step\n"
          ],
          "name": "stdout"
        }
      ]
    },
    {
      "cell_type": "code",
      "metadata": {
        "colab": {
          "base_uri": "https://localhost:8080/"
        },
        "id": "MXSB8DiU5SDR",
        "outputId": "22172873-8a56-46c3-b473-efd1389a7abb"
      },
      "source": [
        "print(train_images.shape, test_images.shape)"
      ],
      "execution_count": 21,
      "outputs": [
        {
          "output_type": "stream",
          "text": [
            "(60000, 28, 28) (10000, 28, 28)\n"
          ],
          "name": "stdout"
        }
      ]
    },
    {
      "cell_type": "code",
      "metadata": {
        "id": "aaKTSK9h3Jtu"
      },
      "source": [
        "imgs = np.concatenate((train_images, test_images), axis = 0)\n",
        "labels = np.concatenate((train_labels, test_labels), axis = 0)"
      ],
      "execution_count": 17,
      "outputs": []
    },
    {
      "cell_type": "code",
      "metadata": {
        "id": "Bgc0iHkX3P7G"
      },
      "source": [
        "def normalize(images):\n",
        "    tensor = images.reshape(-1, 28 * 28)\n",
        "    return scale(tensor)   "
      ],
      "execution_count": 18,
      "outputs": []
    },
    {
      "cell_type": "code",
      "metadata": {
        "colab": {
          "base_uri": "https://localhost:8080/"
        },
        "id": "OyVt3iA33Taf",
        "outputId": "7545602f-947b-459a-f618-f941afbdd7d0"
      },
      "source": [
        "scaled_images = normalize(imgs)"
      ],
      "execution_count": 19,
      "outputs": [
        {
          "output_type": "stream",
          "text": [
            "(70000, 784)\n"
          ],
          "name": "stdout"
        }
      ]
    },
    {
      "cell_type": "markdown",
      "metadata": {
        "id": "p7REVS4O6Km4"
      },
      "source": [
        "## Principal component analysis "
      ]
    },
    {
      "cell_type": "code",
      "metadata": {
        "id": "wNQBo2QJ5ZZ7"
      },
      "source": [
        "class PCA_model:\n",
        "    \n",
        "    def __init__(self,dataset, k_dimensions):     \n",
        "        self.data = dataset\n",
        "        self.k = k_dimensions\n",
        "        self.variance = 0\n",
        "        self.principal_components = 0\n",
        "    \n",
        "    def SVD(self): \n",
        "        cov_matrix = np.cov(self.data, rowvar = False)\n",
        "        U, variance, _ = svd(cov_matrix)\n",
        "        return U, variance\n",
        "        \n",
        "    def variance(self):    \n",
        "        _, variance = self.SVD()\n",
        "        variance_pc = np.sum(variance[:self.k])/ np.sum(variance)\n",
        "        return variance_pc\n",
        "    \n",
        "    def fit(self):  \n",
        "        ss, _ = self.SVD()\n",
        "        self.variance = self.variance()\n",
        "        U_reduced = ss[:, :self.k]\n",
        "        self.principal_components = np.matmul(self.data, U_reduced)"
      ],
      "execution_count": 37,
      "outputs": []
    },
    {
      "cell_type": "code",
      "metadata": {
        "id": "3q0MQQQN-eS5"
      },
      "source": [
        "PCA = PCA_model(scaled_images, 2)"
      ],
      "execution_count": 39,
      "outputs": []
    },
    {
      "cell_type": "code",
      "metadata": {
        "colab": {
          "base_uri": "https://localhost:8080/"
        },
        "id": "dBNrmvjn-S4g",
        "outputId": "ca080f68-dcbc-431f-d8b0-c522012fe957"
      },
      "source": [
        "PCA.fit()\n",
        "PCA.principal_components"
      ],
      "execution_count": 40,
      "outputs": [
        {
          "output_type": "execute_result",
          "data": {
            "text/plain": [
              "array([[  0.82469513, -20.86260448],\n",
              "       [-17.07338982,   4.96621704],\n",
              "       [  9.60003596,  12.32192784],\n",
              "       ...,\n",
              "       [  6.99353047,   8.48864653],\n",
              "       [  2.8922854 ,  15.3764669 ],\n",
              "       [ 17.53224758,  -0.12483318]])"
            ]
          },
          "metadata": {
            "tags": []
          },
          "execution_count": 40
        }
      ]
    },
    {
      "cell_type": "markdown",
      "metadata": {
        "id": "xJj8XK_yW4i7"
      },
      "source": [
        "## Cantidad de varianza preservada"
      ]
    },
    {
      "cell_type": "code",
      "metadata": {
        "colab": {
          "base_uri": "https://localhost:8080/"
        },
        "id": "J_ZgnyvD3g_z",
        "outputId": "be771487-2d1d-43b0-8ce6-bd76ce16b949"
      },
      "source": [
        "round(PCA.variance, 2)"
      ],
      "execution_count": 15,
      "outputs": [
        {
          "output_type": "execute_result",
          "data": {
            "text/plain": [
              "0.36"
            ]
          },
          "metadata": {
            "tags": []
          },
          "execution_count": 15
        }
      ]
    },
    {
      "cell_type": "markdown",
      "metadata": {
        "id": "aMtHJ0iTCIUy"
      },
      "source": [
        "## TSNE"
      ]
    },
    {
      "cell_type": "code",
      "metadata": {
        "id": "hVz7u_PiCKfP"
      },
      "source": [
        "tsne = TSNE(n_components=2, verbose = 1)"
      ],
      "execution_count": null,
      "outputs": []
    },
    {
      "cell_type": "code",
      "metadata": {
        "id": "Vt15b_YaCOsD"
      },
      "source": [
        "t_model = PCA(n_components=5)"
      ],
      "execution_count": null,
      "outputs": []
    },
    {
      "cell_type": "code",
      "metadata": {
        "colab": {
          "base_uri": "https://localhost:8080/"
        },
        "id": "4Gg02SyqCWe0",
        "outputId": "d042be5a-2279-4073-b562-08056dbab134"
      },
      "source": [
        "t_model.fit_transform(scaled_images)"
      ],
      "execution_count": null,
      "outputs": [
        {
          "output_type": "execute_result",
          "data": {
            "text/plain": [
              "array([[ -0.82469513,  20.86260447, -12.90604763,   3.46000512,\n",
              "         -6.68513224],\n",
              "       [ 17.07338982,  -4.96621704,  -2.00699145,   5.97686895,\n",
              "         10.89045948],\n",
              "       [ -9.60003596, -12.32192784,   1.11963294,   2.56029229,\n",
              "          0.22145529],\n",
              "       ...,\n",
              "       [ -6.99353047,  -8.48864652,   0.39553082,   6.61110075,\n",
              "         -1.26212279],\n",
              "       [ -2.8922854 , -15.3764669 ,  -7.59981311,  -0.97796232,\n",
              "         -1.68061699],\n",
              "       [-17.53224758,   0.12483318,   3.2543249 ,  -0.76725408,\n",
              "         -1.57489636]])"
            ]
          },
          "metadata": {
            "tags": []
          },
          "execution_count": 22
        }
      ]
    },
    {
      "cell_type": "code",
      "metadata": {
        "colab": {
          "background_save": true,
          "base_uri": "https://localhost:8080/"
        },
        "id": "15ao7pEuCjJY",
        "outputId": "515c96f8-5086-4abd-d71c-4217a179107e"
      },
      "source": [
        "tsne.fit_transform(scaled_images)"
      ],
      "execution_count": null,
      "outputs": [
        {
          "output_type": "stream",
          "text": [
            "[t-SNE] Computing 91 nearest neighbors...\n",
            "[t-SNE] Indexed 70000 samples in 22.345s...\n"
          ],
          "name": "stdout"
        }
      ]
    },
    {
      "cell_type": "markdown",
      "metadata": {
        "id": "JPSM9sLpbtkm"
      },
      "source": [
        "## Conclusiones"
      ]
    },
    {
      "cell_type": "markdown",
      "metadata": {
        "id": "9VUrMzvecC1M"
      },
      "source": [
        "El modelo de PCA fue mucho mas rapido y no supuso mayor tiempo a la hora de hacer el entrenamiento dando buenos resultados con una varianza baja por el contrario TSNE fue muy lento con mas de 2 horas y nunca termino de ejecutarse(Google Colab y Macbook Pro 2020)"
      ]
    }
  ]
}