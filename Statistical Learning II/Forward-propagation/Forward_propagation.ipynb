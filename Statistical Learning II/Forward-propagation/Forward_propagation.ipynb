{
  "nbformat": 4,
  "nbformat_minor": 0,
  "metadata": {
    "kernelspec": {
      "display_name": "Python 3",
      "language": "python",
      "name": "python3"
    },
    "language_info": {
      "codemirror_mode": {
        "name": "ipython",
        "version": 3
      },
      "file_extension": ".py",
      "mimetype": "text/x-python",
      "name": "python",
      "nbconvert_exporter": "python",
      "pygments_lexer": "ipython3",
      "version": "3.8.3"
    },
    "colab": {
      "name": "Forward_propagation.ipynb",
      "provenance": []
    }
  },
  "cells": [
    {
      "cell_type": "markdown",
      "metadata": {
        "id": "PPPOn2DBgH04"
      },
      "source": [
        "# Forward propagation\n",
        "\n",
        "\n",
        "## Parte I\n",
        "<img src='https://github.com/normanaspx/Data-Science/blob/master/Statistical%20Learning%20II/Forward-propagation/models.png?raw=true'>"
      ]
    },
    {
      "cell_type": "code",
      "metadata": {
        "id": "Z3N3XJkvgH06"
      },
      "source": [
        "import numpy as np\n",
        "import matplotlib.pyplot as plt\n",
        "import seaborn as sns"
      ],
      "execution_count": 34,
      "outputs": []
    },
    {
      "cell_type": "code",
      "metadata": {
        "id": "bZtOlplwgH06"
      },
      "source": [
        "def sigmoid(X):\n",
        "  return 1/(1+np.exp(-X))"
      ],
      "execution_count": 2,
      "outputs": []
    },
    {
      "cell_type": "markdown",
      "metadata": {
        "id": "t0wMiQRXhN1W"
      },
      "source": [
        "## Modelo I"
      ]
    },
    {
      "cell_type": "code",
      "metadata": {
        "id": "sol8mWwRhNK1"
      },
      "source": [
        "def neural_network(x):\n",
        "    CAPA_1 = np.array([[5,7],[-2,-3],[-8,1]])\n",
        "    CAPA_2 = np.array([7,5,-6])\n",
        "    x = np.append(x, 1)\n",
        "    H1 =  sigmoid(np.matmul(x, CAPA_1))\n",
        "    H1 = np.append(H1, 1)\n",
        "    return sigmoid(np.matmul(H1, CAPA_2)), H1"
      ],
      "execution_count": 8,
      "outputs": []
    },
    {
      "cell_type": "code",
      "metadata": {
        "id": "EAWgEeOTiiHX"
      },
      "source": [
        "model, layer = neural_network(np.array([1,1]))"
      ],
      "execution_count": 12,
      "outputs": []
    },
    {
      "cell_type": "code",
      "metadata": {
        "colab": {
          "base_uri": "https://localhost:8080/"
        },
        "id": "f6HFRpaOj8La",
        "outputId": "eb980f50-60e2-4615-bee4-b4b35a06905c"
      },
      "source": [
        "print(\"Salida del modelo\", model)"
      ],
      "execution_count": 13,
      "outputs": [
        {
          "output_type": "stream",
          "name": "stdout",
          "text": [
            "Salida del modelo 0.2715813356119339\n"
          ]
        }
      ]
    },
    {
      "cell_type": "code",
      "metadata": {
        "colab": {
          "base_uri": "https://localhost:8080/"
        },
        "id": "RbglQmWzkDWC",
        "outputId": "2ef5c390-4a42-4e97-fe5e-6b58d090057c"
      },
      "source": [
        "print(\"Capa con mayor presencia\", layer)"
      ],
      "execution_count": 14,
      "outputs": [
        {
          "output_type": "stream",
          "name": "stdout",
          "text": [
            "Capa con mayor presencia [0.00669285 0.99330715 1.        ]\n"
          ]
        }
      ]
    },
    {
      "cell_type": "markdown",
      "metadata": {
        "id": "tvkqx1Ooiwg-"
      },
      "source": [
        "##Modelo II"
      ]
    },
    {
      "cell_type": "code",
      "metadata": {
        "id": "6tYMwIuFgH07"
      },
      "source": [
        "def neural_network_2(x):\n",
        "    CAPA_1 = np.array([[0.8, 0.4, 0.3],[0.2, 0.9, 0.5]])\n",
        "    CAPA_2 = np.array([0.3, 0.5, 0.9])\n",
        "    H1 =  sigmoid(np.matmul(x, CAPA_1))\n",
        "    return sigmoid(np.matmul(H1, CAPA_2)), H1"
      ],
      "execution_count": 19,
      "outputs": []
    },
    {
      "cell_type": "code",
      "metadata": {
        "id": "VE7HMTY0jl1a"
      },
      "source": [
        "model, layer = neural_network_2(np.array([1,1]))"
      ],
      "execution_count": 20,
      "outputs": []
    },
    {
      "cell_type": "code",
      "metadata": {
        "colab": {
          "base_uri": "https://localhost:8080/"
        },
        "id": "oChFjG8WkZK3",
        "outputId": "01c4f6b6-fd8c-4b29-b2f6-217e9b7741fc"
      },
      "source": [
        "print(\"Salida del modelo\", model)"
      ],
      "execution_count": 21,
      "outputs": [
        {
          "output_type": "stream",
          "name": "stdout",
          "text": [
            "Salida del modelo 0.7743802720529458\n"
          ]
        }
      ]
    },
    {
      "cell_type": "code",
      "metadata": {
        "colab": {
          "base_uri": "https://localhost:8080/"
        },
        "id": "QO4dGw6hkfRi",
        "outputId": "3f6a1d86-bfc1-46ef-b93a-3775f75a2603"
      },
      "source": [
        "print(\"Capa con mayor presencia\", layer)"
      ],
      "execution_count": 22,
      "outputs": [
        {
          "output_type": "stream",
          "name": "stdout",
          "text": [
            "Capa con mayor presencia [0.73105858 0.78583498 0.68997448]\n"
          ]
        }
      ]
    },
    {
      "cell_type": "markdown",
      "metadata": {
        "id": "ShptwXNTgH08"
      },
      "source": [
        "## Parte 2 - Modelo XOR\n",
        "\n"
      ]
    },
    {
      "cell_type": "code",
      "metadata": {
        "id": "aHui_Th_gH08"
      },
      "source": [
        "def neural_network_XOR(x):   \n",
        "  CAPA_1 = np.array([[-10, 20, 20], [30, -20, -20]])\n",
        "  CAPA_2 = np.array([-30, 20, 20])\n",
        "  x = np.append(np.ones((x.shape[0], 1)), x, axis = -1)\n",
        "  L1 = sigmoid(np.matmul(x, CAPA_1.T))\n",
        "  L2 = np.append(np.ones((L1.shape[0], 1)),L1, axis = -1)\n",
        "  output = sigmoid(np.matmul(L2, CAPA_2.T))\n",
        "\n",
        "  return np.round(output), L1"
      ],
      "execution_count": 27,
      "outputs": []
    },
    {
      "cell_type": "code",
      "metadata": {
        "id": "4Z4Fv2z1lXqj"
      },
      "source": [
        "model, layer = neural_network_XOR(np.array([[0,0], [0,1], [1,0], [1,1]]))"
      ],
      "execution_count": 31,
      "outputs": []
    },
    {
      "cell_type": "code",
      "metadata": {
        "colab": {
          "base_uri": "https://localhost:8080/"
        },
        "id": "4AFDtSo9mIc_",
        "outputId": "b8dfd006-f791-4da0-aa3f-56432c66274d"
      },
      "source": [
        "print(\"Salida del modelo\", model)"
      ],
      "execution_count": 32,
      "outputs": [
        {
          "output_type": "stream",
          "name": "stdout",
          "text": [
            "Salida del modelo [0. 1. 1. 0.]\n"
          ]
        }
      ]
    },
    {
      "cell_type": "code",
      "metadata": {
        "colab": {
          "base_uri": "https://localhost:8080/"
        },
        "id": "NJtlLqkemKVm",
        "outputId": "4fc14ce1-7388-4f7e-ec7b-fe9a8f6448b5"
      },
      "source": [
        "print(\"Capa con mayor presencia\", layer)"
      ],
      "execution_count": 33,
      "outputs": [
        {
          "output_type": "stream",
          "name": "stdout",
          "text": [
            "Capa con mayor presencia [[4.53978687e-05 1.00000000e+00]\n",
            " [9.99954602e-01 9.99954602e-01]\n",
            " [9.99954602e-01 9.99954602e-01]\n",
            " [1.00000000e+00 4.53978687e-05]]\n"
          ]
        }
      ]
    },
    {
      "cell_type": "code",
      "metadata": {
        "id": "IfU9LbohgH0_",
        "colab": {
          "base_uri": "https://localhost:8080/",
          "height": 298
        },
        "outputId": "e761a66a-59a9-46f6-f440-0e642c945f86"
      },
      "source": [
        "sns.scatterplot(x=layer[:,0], y=layer[:,1], hue = model, s = 100).set_title(\"XOR\")"
      ],
      "execution_count": 38,
      "outputs": [
        {
          "output_type": "execute_result",
          "data": {
            "text/plain": [
              "Text(0.5, 1.0, 'XOR')"
            ]
          },
          "metadata": {},
          "execution_count": 38
        },
        {
          "output_type": "display_data",
          "data": {
            "image/png": "[encoded data removed]",
            "text/plain": [
              "<Figure size 432x288 with 1 Axes>"
            ]
          },
          "metadata": {
            "needs_background": "light"
          }
        }
      ]
    },
    {
      "cell_type": "markdown",
      "metadata": {
        "id": "aLUS2xjmgH0_"
      },
      "source": [
        "## Conclusiones:\n"
      ]
    },
    {
      "cell_type": "markdown",
      "metadata": {
        "id": "IaYbPj6gnmNf"
      },
      "source": [
        "\n",
        "- Para este modelo de red neuronal de 2 capas es posible crear un perceptron multicapa que aproxime la función XOR.\n",
        "- Las capas intermedias del modelo no son linealmente separables"
      ]
    }
  ]
}