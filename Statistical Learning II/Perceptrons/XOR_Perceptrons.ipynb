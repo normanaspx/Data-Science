{
  "nbformat": 4,
  "nbformat_minor": 0,
  "metadata": {
    "colab": {
      "name": "XOR - Perceptrons.ipynb",
      "provenance": []
    },
    "kernelspec": {
      "name": "python3",
      "display_name": "Python 3"
    }
  },
  "cells": [
    {
      "cell_type": "markdown",
      "metadata": {
        "id": "ql4Fc1WwoYVA"
      },
      "source": [
        "# XOR - Composicion de funciones"
      ]
    },
    {
      "cell_type": "code",
      "metadata": {
        "id": "mePW8sNzqVJR"
      },
      "source": [
        "import numpy as np"
      ],
      "execution_count": 18,
      "outputs": []
    },
    {
      "cell_type": "code",
      "metadata": {
        "id": "NQWMY-_vMqgx",
        "colab": {
          "base_uri": "https://localhost:8080/"
        },
        "outputId": "281f54d6-631d-4ad2-f2de-2816adec4fab"
      },
      "source": [
        "def  operacion_or(x1,x2):\n",
        "  parametros = [1,1,0]\n",
        " \n",
        "  return  int(x1*parametros[0]  + x2*parametros[1] + parametros[2] > 0)\n",
        " \n",
        "testx1 = 1\n",
        "testx2 = 1\n",
        " \n",
        "operacion_or(testx1,testx2)"
      ],
      "execution_count": 1,
      "outputs": [
        {
          "output_type": "execute_result",
          "data": {
            "text/plain": [
              "1"
            ]
          },
          "metadata": {},
          "execution_count": 1
        }
      ]
    },
    {
      "cell_type": "code",
      "metadata": {
        "id": "5D-YWRCHOR-6",
        "colab": {
          "base_uri": "https://localhost:8080/"
        },
        "outputId": "65baf783-2618-4a69-f8e4-321eea6bb0ff"
      },
      "source": [
        "def  operacion_and(x1,x2):\n",
        "  parametros = [1,1,-1]\n",
        " \n",
        "  return  int(x1*parametros[0]  + x2*parametros[1] + parametros[2] > 0)\n",
        " \n",
        "testx1 = 0\n",
        "testx2 = 1\n",
        " \n",
        "operacion_and(testx1,testx2)"
      ],
      "execution_count": 3,
      "outputs": [
        {
          "output_type": "execute_result",
          "data": {
            "text/plain": [
              "0"
            ]
          },
          "metadata": {},
          "execution_count": 3
        }
      ]
    },
    {
      "cell_type": "code",
      "metadata": {
        "colab": {
          "base_uri": "https://localhost:8080/"
        },
        "id": "gQ-e4ZdmnCwk",
        "outputId": "b32fe94b-a90c-4d50-9d26-f8bcf2ddbeb1"
      },
      "source": [
        "def operacion_not(x1):\n",
        "    parameters = [ -1 , 1]\n",
        "\n",
        "    result = int(x1*parameters[0] + parameters[1]) \n",
        "    \n",
        "    return result\n",
        "\n",
        "operacion_not(0)"
      ],
      "execution_count": 34,
      "outputs": [
        {
          "output_type": "execute_result",
          "data": {
            "text/plain": [
              "1"
            ]
          },
          "metadata": {},
          "execution_count": 34
        }
      ]
    },
    {
      "cell_type": "code",
      "metadata": {
        "id": "zWn-N5uMO9JR",
        "colab": {
          "base_uri": "https://localhost:8080/"
        },
        "outputId": "7e26abd5-8826-45fb-dc4e-a021a4b7647e"
      },
      "source": [
        "def operacion_xor(x1,x2):\n",
        "  temp1 = operacion_and(x1,x2)\n",
        "  temp2 = operacion_or(x1,x2)\n",
        " \n",
        "  nand_temp = operacion_not(temp1)\n",
        " \n",
        "  temp_3 = operacion_and(nand_temp,temp2)\n",
        " \n",
        "  return temp_3\n",
        " \n",
        "testx1 = 1\n",
        "testx2 = 1\n",
        " \n",
        "operacion_xor(testx1,testx2)"
      ],
      "execution_count": 8,
      "outputs": [
        {
          "output_type": "execute_result",
          "data": {
            "text/plain": [
              "0"
            ]
          },
          "metadata": {},
          "execution_count": 8
        }
      ]
    },
    {
      "cell_type": "markdown",
      "metadata": {
        "id": "g53k6BA-nsX6"
      },
      "source": [
        "## Operacion con codigo vectorizado y composicion de funciones"
      ]
    },
    {
      "cell_type": "code",
      "metadata": {
        "id": "T_H-LmMiQdxP"
      },
      "source": [
        "def xor(x1,x2):\n",
        "\n",
        "    x1_temp = operacion_not(operacion_and(x1,x2))\n",
        "    x2_temp = operacion_or(x1,x2)\n",
        "    \n",
        "    result = operacion_and(x1_temp, x2_temp)\n",
        "    \n",
        "    return result"
      ],
      "execution_count": 49,
      "outputs": []
    },
    {
      "cell_type": "code",
      "metadata": {
        "colab": {
          "base_uri": "https://localhost:8080/"
        },
        "id": "LTmAeX-Kn54-",
        "outputId": "9df9dfaa-da0d-4f89-dea4-9d349bf9ecfd"
      },
      "source": [
        "xor(1,1)"
      ],
      "execution_count": 48,
      "outputs": [
        {
          "output_type": "execute_result",
          "data": {
            "text/plain": [
              "0"
            ]
          },
          "metadata": {},
          "execution_count": 48
        }
      ]
    },
    {
      "cell_type": "code",
      "metadata": {
        "colab": {
          "base_uri": "https://localhost:8080/"
        },
        "id": "f6tlnIWXn8Nk",
        "outputId": "e42a3ee9-a672-4eb9-eef7-71581df019d7"
      },
      "source": [
        "xor(0,0)"
      ],
      "execution_count": 47,
      "outputs": [
        {
          "output_type": "execute_result",
          "data": {
            "text/plain": [
              "0"
            ]
          },
          "metadata": {},
          "execution_count": 47
        }
      ]
    },
    {
      "cell_type": "code",
      "metadata": {
        "colab": {
          "base_uri": "https://localhost:8080/"
        },
        "id": "sY8zKtBeoCEz",
        "outputId": "ac134478-9787-41ca-b8d1-d1e0bb35f5c7"
      },
      "source": [
        "xor(1,0)"
      ],
      "execution_count": 46,
      "outputs": [
        {
          "output_type": "execute_result",
          "data": {
            "text/plain": [
              "1"
            ]
          },
          "metadata": {},
          "execution_count": 46
        }
      ]
    }
  ]
}