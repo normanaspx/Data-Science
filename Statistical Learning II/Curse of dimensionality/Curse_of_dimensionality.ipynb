{
  "nbformat": 4,
  "nbformat_minor": 0,
  "metadata": {
    "colab": {
      "name": "Curse of dimensionality.ipynb",
      "provenance": []
    },
    "kernelspec": {
      "name": "python3",
      "display_name": "Python 3"
    },
    "language_info": {
      "name": "python"
    }
  },
  "cells": [
    {
      "cell_type": "markdown",
      "metadata": {
        "id": "Z5Vv67f98PTD"
      },
      "source": [
        "#Maldicion de la dimensionalidad - Norman Vicente"
      ]
    },
    {
      "cell_type": "code",
      "metadata": {
        "id": "fhL979UV7F7-"
      },
      "source": [
        "import numpy as np\n",
        "import sklearn\n",
        "import pandas as pd\n",
        "import matplotlib.pyplot as plt\n",
        "import seaborn as sns\n",
        "from sklearn import metrics\n",
        "from sklearn.preprocessing import PolynomialFeatures"
      ],
      "execution_count": 10,
      "outputs": []
    },
    {
      "cell_type": "code",
      "metadata": {
        "id": "uKLEUO7m9z3E"
      },
      "source": [
        "data = np.load('proyecto_training_data.npy')"
      ],
      "execution_count": 4,
      "outputs": []
    },
    {
      "cell_type": "code",
      "metadata": {
        "id": "6kPeJXAo-Euz"
      },
      "source": [
        "df = pd.DataFrame(data, columns = ['SalePrice','OverallQual','1stFlrSF', 'TotRmsAbvGrd', 'YearBuilt', 'LotFrontage'])"
      ],
      "execution_count": 8,
      "outputs": []
    },
    {
      "cell_type": "code",
      "metadata": {
        "colab": {
          "base_uri": "https://localhost:8080/",
          "height": 419
        },
        "id": "MwIbBf6i-ItG",
        "outputId": "7d90ec9a-8ffd-48e2-e1c1-98a058240778"
      },
      "source": [
        "df"
      ],
      "execution_count": 9,
      "outputs": [
        {
          "output_type": "execute_result",
          "data": {
            "text/html": [
              "<div>\n",
              "<style scoped>\n",
              "    .dataframe tbody tr th:only-of-type {\n",
              "        vertical-align: middle;\n",
              "    }\n",
              "\n",
              "    .dataframe tbody tr th {\n",
              "        vertical-align: top;\n",
              "    }\n",
              "\n",
              "    .dataframe thead th {\n",
              "        text-align: right;\n",
              "    }\n",
              "</style>\n",
              "<table border=\"1\" class=\"dataframe\">\n",
              "  <thead>\n",
              "    <tr style=\"text-align: right;\">\n",
              "      <th></th>\n",
              "      <th>SalePrice</th>\n",
              "      <th>OverallQual</th>\n",
              "      <th>1stFlrSF</th>\n",
              "      <th>TotRmsAbvGrd</th>\n",
              "      <th>YearBuilt</th>\n",
              "      <th>LotFrontage</th>\n",
              "    </tr>\n",
              "  </thead>\n",
              "  <tbody>\n",
              "    <tr>\n",
              "      <th>0</th>\n",
              "      <td>208500.0</td>\n",
              "      <td>7.0</td>\n",
              "      <td>856.0</td>\n",
              "      <td>8.0</td>\n",
              "      <td>2003.0</td>\n",
              "      <td>65.0</td>\n",
              "    </tr>\n",
              "    <tr>\n",
              "      <th>1</th>\n",
              "      <td>181500.0</td>\n",
              "      <td>6.0</td>\n",
              "      <td>1262.0</td>\n",
              "      <td>6.0</td>\n",
              "      <td>1976.0</td>\n",
              "      <td>80.0</td>\n",
              "    </tr>\n",
              "    <tr>\n",
              "      <th>2</th>\n",
              "      <td>223500.0</td>\n",
              "      <td>7.0</td>\n",
              "      <td>920.0</td>\n",
              "      <td>6.0</td>\n",
              "      <td>2001.0</td>\n",
              "      <td>68.0</td>\n",
              "    </tr>\n",
              "    <tr>\n",
              "      <th>3</th>\n",
              "      <td>140000.0</td>\n",
              "      <td>7.0</td>\n",
              "      <td>961.0</td>\n",
              "      <td>7.0</td>\n",
              "      <td>1915.0</td>\n",
              "      <td>60.0</td>\n",
              "    </tr>\n",
              "    <tr>\n",
              "      <th>4</th>\n",
              "      <td>250000.0</td>\n",
              "      <td>8.0</td>\n",
              "      <td>1145.0</td>\n",
              "      <td>9.0</td>\n",
              "      <td>2000.0</td>\n",
              "      <td>84.0</td>\n",
              "    </tr>\n",
              "    <tr>\n",
              "      <th>...</th>\n",
              "      <td>...</td>\n",
              "      <td>...</td>\n",
              "      <td>...</td>\n",
              "      <td>...</td>\n",
              "      <td>...</td>\n",
              "      <td>...</td>\n",
              "    </tr>\n",
              "    <tr>\n",
              "      <th>1455</th>\n",
              "      <td>175000.0</td>\n",
              "      <td>6.0</td>\n",
              "      <td>953.0</td>\n",
              "      <td>7.0</td>\n",
              "      <td>1999.0</td>\n",
              "      <td>62.0</td>\n",
              "    </tr>\n",
              "    <tr>\n",
              "      <th>1456</th>\n",
              "      <td>210000.0</td>\n",
              "      <td>6.0</td>\n",
              "      <td>2073.0</td>\n",
              "      <td>7.0</td>\n",
              "      <td>1978.0</td>\n",
              "      <td>85.0</td>\n",
              "    </tr>\n",
              "    <tr>\n",
              "      <th>1457</th>\n",
              "      <td>266500.0</td>\n",
              "      <td>7.0</td>\n",
              "      <td>1188.0</td>\n",
              "      <td>9.0</td>\n",
              "      <td>1941.0</td>\n",
              "      <td>66.0</td>\n",
              "    </tr>\n",
              "    <tr>\n",
              "      <th>1458</th>\n",
              "      <td>142125.0</td>\n",
              "      <td>5.0</td>\n",
              "      <td>1078.0</td>\n",
              "      <td>5.0</td>\n",
              "      <td>1950.0</td>\n",
              "      <td>68.0</td>\n",
              "    </tr>\n",
              "    <tr>\n",
              "      <th>1459</th>\n",
              "      <td>147500.0</td>\n",
              "      <td>5.0</td>\n",
              "      <td>1256.0</td>\n",
              "      <td>6.0</td>\n",
              "      <td>1965.0</td>\n",
              "      <td>75.0</td>\n",
              "    </tr>\n",
              "  </tbody>\n",
              "</table>\n",
              "<p>1460 rows × 6 columns</p>\n",
              "</div>"
            ],
            "text/plain": [
              "      SalePrice  OverallQual  1stFlrSF  TotRmsAbvGrd  YearBuilt  LotFrontage\n",
              "0      208500.0          7.0     856.0           8.0     2003.0         65.0\n",
              "1      181500.0          6.0    1262.0           6.0     1976.0         80.0\n",
              "2      223500.0          7.0     920.0           6.0     2001.0         68.0\n",
              "3      140000.0          7.0     961.0           7.0     1915.0         60.0\n",
              "4      250000.0          8.0    1145.0           9.0     2000.0         84.0\n",
              "...         ...          ...       ...           ...        ...          ...\n",
              "1455   175000.0          6.0     953.0           7.0     1999.0         62.0\n",
              "1456   210000.0          6.0    2073.0           7.0     1978.0         85.0\n",
              "1457   266500.0          7.0    1188.0           9.0     1941.0         66.0\n",
              "1458   142125.0          5.0    1078.0           5.0     1950.0         68.0\n",
              "1459   147500.0          5.0    1256.0           6.0     1965.0         75.0\n",
              "\n",
              "[1460 rows x 6 columns]"
            ]
          },
          "metadata": {
            "tags": []
          },
          "execution_count": 9
        }
      ]
    },
    {
      "cell_type": "code",
      "metadata": {
        "colab": {
          "base_uri": "https://localhost:8080/",
          "height": 460
        },
        "id": "XCZNHH1k-JRT",
        "outputId": "993c57f6-7876-48b6-eba3-3464ae2d31b8"
      },
      "source": [
        "plt.figure(dpi=100, figsize=(8, 5))\n",
        "ax = plt.axes()\n",
        "sns.heatmap(df.corr(), annot=True, ax = ax)\n",
        "ax.set_title('Correlation Matrix')\n",
        "plt.show()"
      ],
      "execution_count": 52,
      "outputs": [
        {
          "output_type": "display_data",
          "data": {
            "image/png": "[encoded data removed]",
            "text/plain": [
              "<Figure size 800x500 with 2 Axes>"
            ]
          },
          "metadata": {
            "tags": [],
            "needs_background": "light"
          }
        }
      ]
    },
    {
      "cell_type": "markdown",
      "metadata": {
        "id": "J0VAfmlfA-vf"
      },
      "source": [
        "##Transformacion I"
      ]
    },
    {
      "cell_type": "code",
      "metadata": {
        "colab": {
          "base_uri": "https://localhost:8080/",
          "height": 204
        },
        "id": "Vxk7dCZtAppd",
        "outputId": "33350ef9-7ed4-4dad-910c-5861acdd8268"
      },
      "source": [
        "datat1 = df.filter([\"OverallQual\", \"1stFlrSF\"])\n",
        "datat1.head()"
      ],
      "execution_count": 14,
      "outputs": [
        {
          "output_type": "execute_result",
          "data": {
            "text/html": [
              "<div>\n",
              "<style scoped>\n",
              "    .dataframe tbody tr th:only-of-type {\n",
              "        vertical-align: middle;\n",
              "    }\n",
              "\n",
              "    .dataframe tbody tr th {\n",
              "        vertical-align: top;\n",
              "    }\n",
              "\n",
              "    .dataframe thead th {\n",
              "        text-align: right;\n",
              "    }\n",
              "</style>\n",
              "<table border=\"1\" class=\"dataframe\">\n",
              "  <thead>\n",
              "    <tr style=\"text-align: right;\">\n",
              "      <th></th>\n",
              "      <th>OverallQual</th>\n",
              "      <th>1stFlrSF</th>\n",
              "    </tr>\n",
              "  </thead>\n",
              "  <tbody>\n",
              "    <tr>\n",
              "      <th>0</th>\n",
              "      <td>7.0</td>\n",
              "      <td>856.0</td>\n",
              "    </tr>\n",
              "    <tr>\n",
              "      <th>1</th>\n",
              "      <td>6.0</td>\n",
              "      <td>1262.0</td>\n",
              "    </tr>\n",
              "    <tr>\n",
              "      <th>2</th>\n",
              "      <td>7.0</td>\n",
              "      <td>920.0</td>\n",
              "    </tr>\n",
              "    <tr>\n",
              "      <th>3</th>\n",
              "      <td>7.0</td>\n",
              "      <td>961.0</td>\n",
              "    </tr>\n",
              "    <tr>\n",
              "      <th>4</th>\n",
              "      <td>8.0</td>\n",
              "      <td>1145.0</td>\n",
              "    </tr>\n",
              "  </tbody>\n",
              "</table>\n",
              "</div>"
            ],
            "text/plain": [
              "   OverallQual  1stFlrSF\n",
              "0          7.0     856.0\n",
              "1          6.0    1262.0\n",
              "2          7.0     920.0\n",
              "3          7.0     961.0\n",
              "4          8.0    1145.0"
            ]
          },
          "metadata": {
            "tags": []
          },
          "execution_count": 14
        }
      ]
    },
    {
      "cell_type": "markdown",
      "metadata": {
        "id": "m7oCBUItBS5g"
      },
      "source": [
        "### Polinomio grado 2"
      ]
    },
    {
      "cell_type": "code",
      "metadata": {
        "colab": {
          "base_uri": "https://localhost:8080/"
        },
        "id": "4zqmiwfaBSoP",
        "outputId": "6ad91ef3-6851-4fa4-c502-85d4d4c70fe4"
      },
      "source": [
        "poly = PolynomialFeatures(2)\n",
        "trans1 = poly.fit_transform(datat1)\n",
        "trans1"
      ],
      "execution_count": 15,
      "outputs": [
        {
          "output_type": "execute_result",
          "data": {
            "text/plain": [
              "array([[1.000000e+00, 7.000000e+00, 8.560000e+02, 4.900000e+01,\n",
              "        5.992000e+03, 7.327360e+05],\n",
              "       [1.000000e+00, 6.000000e+00, 1.262000e+03, 3.600000e+01,\n",
              "        7.572000e+03, 1.592644e+06],\n",
              "       [1.000000e+00, 7.000000e+00, 9.200000e+02, 4.900000e+01,\n",
              "        6.440000e+03, 8.464000e+05],\n",
              "       ...,\n",
              "       [1.000000e+00, 7.000000e+00, 1.188000e+03, 4.900000e+01,\n",
              "        8.316000e+03, 1.411344e+06],\n",
              "       [1.000000e+00, 5.000000e+00, 1.078000e+03, 2.500000e+01,\n",
              "        5.390000e+03, 1.162084e+06],\n",
              "       [1.000000e+00, 5.000000e+00, 1.256000e+03, 2.500000e+01,\n",
              "        6.280000e+03, 1.577536e+06]])"
            ]
          },
          "metadata": {
            "tags": []
          },
          "execution_count": 15
        }
      ]
    },
    {
      "cell_type": "code",
      "metadata": {
        "colab": {
          "base_uri": "https://localhost:8080/",
          "height": 419
        },
        "id": "lmzdK7g2BKDJ",
        "outputId": "c10e63bc-fb99-4469-d481-d79956723403"
      },
      "source": [
        "df1 = pd.DataFrame(trans1)\n",
        "df1"
      ],
      "execution_count": 43,
      "outputs": [
        {
          "output_type": "execute_result",
          "data": {
            "text/html": [
              "<div>\n",
              "<style scoped>\n",
              "    .dataframe tbody tr th:only-of-type {\n",
              "        vertical-align: middle;\n",
              "    }\n",
              "\n",
              "    .dataframe tbody tr th {\n",
              "        vertical-align: top;\n",
              "    }\n",
              "\n",
              "    .dataframe thead th {\n",
              "        text-align: right;\n",
              "    }\n",
              "</style>\n",
              "<table border=\"1\" class=\"dataframe\">\n",
              "  <thead>\n",
              "    <tr style=\"text-align: right;\">\n",
              "      <th></th>\n",
              "      <th>0</th>\n",
              "      <th>1</th>\n",
              "      <th>2</th>\n",
              "      <th>3</th>\n",
              "      <th>4</th>\n",
              "      <th>5</th>\n",
              "    </tr>\n",
              "  </thead>\n",
              "  <tbody>\n",
              "    <tr>\n",
              "      <th>0</th>\n",
              "      <td>1.0</td>\n",
              "      <td>7.0</td>\n",
              "      <td>856.0</td>\n",
              "      <td>49.0</td>\n",
              "      <td>5992.0</td>\n",
              "      <td>732736.0</td>\n",
              "    </tr>\n",
              "    <tr>\n",
              "      <th>1</th>\n",
              "      <td>1.0</td>\n",
              "      <td>6.0</td>\n",
              "      <td>1262.0</td>\n",
              "      <td>36.0</td>\n",
              "      <td>7572.0</td>\n",
              "      <td>1592644.0</td>\n",
              "    </tr>\n",
              "    <tr>\n",
              "      <th>2</th>\n",
              "      <td>1.0</td>\n",
              "      <td>7.0</td>\n",
              "      <td>920.0</td>\n",
              "      <td>49.0</td>\n",
              "      <td>6440.0</td>\n",
              "      <td>846400.0</td>\n",
              "    </tr>\n",
              "    <tr>\n",
              "      <th>3</th>\n",
              "      <td>1.0</td>\n",
              "      <td>7.0</td>\n",
              "      <td>961.0</td>\n",
              "      <td>49.0</td>\n",
              "      <td>6727.0</td>\n",
              "      <td>923521.0</td>\n",
              "    </tr>\n",
              "    <tr>\n",
              "      <th>4</th>\n",
              "      <td>1.0</td>\n",
              "      <td>8.0</td>\n",
              "      <td>1145.0</td>\n",
              "      <td>64.0</td>\n",
              "      <td>9160.0</td>\n",
              "      <td>1311025.0</td>\n",
              "    </tr>\n",
              "    <tr>\n",
              "      <th>...</th>\n",
              "      <td>...</td>\n",
              "      <td>...</td>\n",
              "      <td>...</td>\n",
              "      <td>...</td>\n",
              "      <td>...</td>\n",
              "      <td>...</td>\n",
              "    </tr>\n",
              "    <tr>\n",
              "      <th>1455</th>\n",
              "      <td>1.0</td>\n",
              "      <td>6.0</td>\n",
              "      <td>953.0</td>\n",
              "      <td>36.0</td>\n",
              "      <td>5718.0</td>\n",
              "      <td>908209.0</td>\n",
              "    </tr>\n",
              "    <tr>\n",
              "      <th>1456</th>\n",
              "      <td>1.0</td>\n",
              "      <td>6.0</td>\n",
              "      <td>2073.0</td>\n",
              "      <td>36.0</td>\n",
              "      <td>12438.0</td>\n",
              "      <td>4297329.0</td>\n",
              "    </tr>\n",
              "    <tr>\n",
              "      <th>1457</th>\n",
              "      <td>1.0</td>\n",
              "      <td>7.0</td>\n",
              "      <td>1188.0</td>\n",
              "      <td>49.0</td>\n",
              "      <td>8316.0</td>\n",
              "      <td>1411344.0</td>\n",
              "    </tr>\n",
              "    <tr>\n",
              "      <th>1458</th>\n",
              "      <td>1.0</td>\n",
              "      <td>5.0</td>\n",
              "      <td>1078.0</td>\n",
              "      <td>25.0</td>\n",
              "      <td>5390.0</td>\n",
              "      <td>1162084.0</td>\n",
              "    </tr>\n",
              "    <tr>\n",
              "      <th>1459</th>\n",
              "      <td>1.0</td>\n",
              "      <td>5.0</td>\n",
              "      <td>1256.0</td>\n",
              "      <td>25.0</td>\n",
              "      <td>6280.0</td>\n",
              "      <td>1577536.0</td>\n",
              "    </tr>\n",
              "  </tbody>\n",
              "</table>\n",
              "<p>1460 rows × 6 columns</p>\n",
              "</div>"
            ],
            "text/plain": [
              "        0    1       2     3        4          5\n",
              "0     1.0  7.0   856.0  49.0   5992.0   732736.0\n",
              "1     1.0  6.0  1262.0  36.0   7572.0  1592644.0\n",
              "2     1.0  7.0   920.0  49.0   6440.0   846400.0\n",
              "3     1.0  7.0   961.0  49.0   6727.0   923521.0\n",
              "4     1.0  8.0  1145.0  64.0   9160.0  1311025.0\n",
              "...   ...  ...     ...   ...      ...        ...\n",
              "1455  1.0  6.0   953.0  36.0   5718.0   908209.0\n",
              "1456  1.0  6.0  2073.0  36.0  12438.0  4297329.0\n",
              "1457  1.0  7.0  1188.0  49.0   8316.0  1411344.0\n",
              "1458  1.0  5.0  1078.0  25.0   5390.0  1162084.0\n",
              "1459  1.0  5.0  1256.0  25.0   6280.0  1577536.0\n",
              "\n",
              "[1460 rows x 6 columns]"
            ]
          },
          "metadata": {
            "tags": []
          },
          "execution_count": 43
        }
      ]
    },
    {
      "cell_type": "markdown",
      "metadata": {
        "id": "UBOy8t1NCtS9"
      },
      "source": [
        "##Transformacion II"
      ]
    },
    {
      "cell_type": "code",
      "metadata": {
        "colab": {
          "base_uri": "https://localhost:8080/",
          "height": 204
        },
        "id": "dT61DS4vCnXt",
        "outputId": "05d29cd5-29f2-47e1-915b-d9e643106e71"
      },
      "source": [
        "datat2 = df.filter([\"OverallQual\", \"1stFlrSF\", \"TotRmsAbvGrd\"])\n",
        "datat2.head()"
      ],
      "execution_count": 21,
      "outputs": [
        {
          "output_type": "execute_result",
          "data": {
            "text/html": [
              "<div>\n",
              "<style scoped>\n",
              "    .dataframe tbody tr th:only-of-type {\n",
              "        vertical-align: middle;\n",
              "    }\n",
              "\n",
              "    .dataframe tbody tr th {\n",
              "        vertical-align: top;\n",
              "    }\n",
              "\n",
              "    .dataframe thead th {\n",
              "        text-align: right;\n",
              "    }\n",
              "</style>\n",
              "<table border=\"1\" class=\"dataframe\">\n",
              "  <thead>\n",
              "    <tr style=\"text-align: right;\">\n",
              "      <th></th>\n",
              "      <th>OverallQual</th>\n",
              "      <th>1stFlrSF</th>\n",
              "      <th>TotRmsAbvGrd</th>\n",
              "    </tr>\n",
              "  </thead>\n",
              "  <tbody>\n",
              "    <tr>\n",
              "      <th>0</th>\n",
              "      <td>7.0</td>\n",
              "      <td>856.0</td>\n",
              "      <td>8.0</td>\n",
              "    </tr>\n",
              "    <tr>\n",
              "      <th>1</th>\n",
              "      <td>6.0</td>\n",
              "      <td>1262.0</td>\n",
              "      <td>6.0</td>\n",
              "    </tr>\n",
              "    <tr>\n",
              "      <th>2</th>\n",
              "      <td>7.0</td>\n",
              "      <td>920.0</td>\n",
              "      <td>6.0</td>\n",
              "    </tr>\n",
              "    <tr>\n",
              "      <th>3</th>\n",
              "      <td>7.0</td>\n",
              "      <td>961.0</td>\n",
              "      <td>7.0</td>\n",
              "    </tr>\n",
              "    <tr>\n",
              "      <th>4</th>\n",
              "      <td>8.0</td>\n",
              "      <td>1145.0</td>\n",
              "      <td>9.0</td>\n",
              "    </tr>\n",
              "  </tbody>\n",
              "</table>\n",
              "</div>"
            ],
            "text/plain": [
              "   OverallQual  1stFlrSF  TotRmsAbvGrd\n",
              "0          7.0     856.0           8.0\n",
              "1          6.0    1262.0           6.0\n",
              "2          7.0     920.0           6.0\n",
              "3          7.0     961.0           7.0\n",
              "4          8.0    1145.0           9.0"
            ]
          },
          "metadata": {
            "tags": []
          },
          "execution_count": 21
        }
      ]
    },
    {
      "cell_type": "markdown",
      "metadata": {
        "id": "RiJMpk2pG1sK"
      },
      "source": [
        "### Polinomio grado 3"
      ]
    },
    {
      "cell_type": "code",
      "metadata": {
        "colab": {
          "base_uri": "https://localhost:8080/"
        },
        "id": "uPC1p0UsC1il",
        "outputId": "5b647d05-2cc4-4512-a0f4-c1a3537d22e8"
      },
      "source": [
        "poly = PolynomialFeatures(3)\n",
        "trans2 = poly.fit_transform(datat2)\n",
        "trans2"
      ],
      "execution_count": 22,
      "outputs": [
        {
          "output_type": "execute_result",
          "data": {
            "text/plain": [
              "array([[1.0000000e+00, 7.0000000e+00, 8.5600000e+02, ..., 5.8618880e+06,\n",
              "        5.4784000e+04, 5.1200000e+02],\n",
              "       [1.0000000e+00, 6.0000000e+00, 1.2620000e+03, ..., 9.5558640e+06,\n",
              "        4.5432000e+04, 2.1600000e+02],\n",
              "       [1.0000000e+00, 7.0000000e+00, 9.2000000e+02, ..., 5.0784000e+06,\n",
              "        3.3120000e+04, 2.1600000e+02],\n",
              "       ...,\n",
              "       [1.0000000e+00, 7.0000000e+00, 1.1880000e+03, ..., 1.2702096e+07,\n",
              "        9.6228000e+04, 7.2900000e+02],\n",
              "       [1.0000000e+00, 5.0000000e+00, 1.0780000e+03, ..., 5.8104200e+06,\n",
              "        2.6950000e+04, 1.2500000e+02],\n",
              "       [1.0000000e+00, 5.0000000e+00, 1.2560000e+03, ..., 9.4652160e+06,\n",
              "        4.5216000e+04, 2.1600000e+02]])"
            ]
          },
          "metadata": {
            "tags": []
          },
          "execution_count": 22
        }
      ]
    },
    {
      "cell_type": "code",
      "metadata": {
        "colab": {
          "base_uri": "https://localhost:8080/",
          "height": 419
        },
        "id": "-XTXw6ZpC_b1",
        "outputId": "0d502a90-7547-4978-f482-64b1d634a63c"
      },
      "source": [
        "df2 = pd.DataFrame(trans2)\n",
        "df2"
      ],
      "execution_count": 49,
      "outputs": [
        {
          "output_type": "execute_result",
          "data": {
            "text/html": [
              "<div>\n",
              "<style scoped>\n",
              "    .dataframe tbody tr th:only-of-type {\n",
              "        vertical-align: middle;\n",
              "    }\n",
              "\n",
              "    .dataframe tbody tr th {\n",
              "        vertical-align: top;\n",
              "    }\n",
              "\n",
              "    .dataframe thead th {\n",
              "        text-align: right;\n",
              "    }\n",
              "</style>\n",
              "<table border=\"1\" class=\"dataframe\">\n",
              "  <thead>\n",
              "    <tr style=\"text-align: right;\">\n",
              "      <th></th>\n",
              "      <th>0</th>\n",
              "      <th>1</th>\n",
              "      <th>2</th>\n",
              "      <th>3</th>\n",
              "      <th>4</th>\n",
              "      <th>5</th>\n",
              "      <th>6</th>\n",
              "      <th>7</th>\n",
              "      <th>8</th>\n",
              "      <th>9</th>\n",
              "      <th>10</th>\n",
              "      <th>11</th>\n",
              "      <th>12</th>\n",
              "      <th>13</th>\n",
              "      <th>14</th>\n",
              "      <th>15</th>\n",
              "      <th>16</th>\n",
              "      <th>17</th>\n",
              "      <th>18</th>\n",
              "      <th>19</th>\n",
              "    </tr>\n",
              "  </thead>\n",
              "  <tbody>\n",
              "    <tr>\n",
              "      <th>0</th>\n",
              "      <td>1.0</td>\n",
              "      <td>7.0</td>\n",
              "      <td>856.0</td>\n",
              "      <td>8.0</td>\n",
              "      <td>49.0</td>\n",
              "      <td>5992.0</td>\n",
              "      <td>56.0</td>\n",
              "      <td>732736.0</td>\n",
              "      <td>6848.0</td>\n",
              "      <td>64.0</td>\n",
              "      <td>343.0</td>\n",
              "      <td>41944.0</td>\n",
              "      <td>392.0</td>\n",
              "      <td>5129152.0</td>\n",
              "      <td>47936.0</td>\n",
              "      <td>448.0</td>\n",
              "      <td>6.272220e+08</td>\n",
              "      <td>5861888.0</td>\n",
              "      <td>54784.0</td>\n",
              "      <td>512.0</td>\n",
              "    </tr>\n",
              "    <tr>\n",
              "      <th>1</th>\n",
              "      <td>1.0</td>\n",
              "      <td>6.0</td>\n",
              "      <td>1262.0</td>\n",
              "      <td>6.0</td>\n",
              "      <td>36.0</td>\n",
              "      <td>7572.0</td>\n",
              "      <td>36.0</td>\n",
              "      <td>1592644.0</td>\n",
              "      <td>7572.0</td>\n",
              "      <td>36.0</td>\n",
              "      <td>216.0</td>\n",
              "      <td>45432.0</td>\n",
              "      <td>216.0</td>\n",
              "      <td>9555864.0</td>\n",
              "      <td>45432.0</td>\n",
              "      <td>216.0</td>\n",
              "      <td>2.009917e+09</td>\n",
              "      <td>9555864.0</td>\n",
              "      <td>45432.0</td>\n",
              "      <td>216.0</td>\n",
              "    </tr>\n",
              "    <tr>\n",
              "      <th>2</th>\n",
              "      <td>1.0</td>\n",
              "      <td>7.0</td>\n",
              "      <td>920.0</td>\n",
              "      <td>6.0</td>\n",
              "      <td>49.0</td>\n",
              "      <td>6440.0</td>\n",
              "      <td>42.0</td>\n",
              "      <td>846400.0</td>\n",
              "      <td>5520.0</td>\n",
              "      <td>36.0</td>\n",
              "      <td>343.0</td>\n",
              "      <td>45080.0</td>\n",
              "      <td>294.0</td>\n",
              "      <td>5924800.0</td>\n",
              "      <td>38640.0</td>\n",
              "      <td>252.0</td>\n",
              "      <td>7.786880e+08</td>\n",
              "      <td>5078400.0</td>\n",
              "      <td>33120.0</td>\n",
              "      <td>216.0</td>\n",
              "    </tr>\n",
              "    <tr>\n",
              "      <th>3</th>\n",
              "      <td>1.0</td>\n",
              "      <td>7.0</td>\n",
              "      <td>961.0</td>\n",
              "      <td>7.0</td>\n",
              "      <td>49.0</td>\n",
              "      <td>6727.0</td>\n",
              "      <td>49.0</td>\n",
              "      <td>923521.0</td>\n",
              "      <td>6727.0</td>\n",
              "      <td>49.0</td>\n",
              "      <td>343.0</td>\n",
              "      <td>47089.0</td>\n",
              "      <td>343.0</td>\n",
              "      <td>6464647.0</td>\n",
              "      <td>47089.0</td>\n",
              "      <td>343.0</td>\n",
              "      <td>8.875037e+08</td>\n",
              "      <td>6464647.0</td>\n",
              "      <td>47089.0</td>\n",
              "      <td>343.0</td>\n",
              "    </tr>\n",
              "    <tr>\n",
              "      <th>4</th>\n",
              "      <td>1.0</td>\n",
              "      <td>8.0</td>\n",
              "      <td>1145.0</td>\n",
              "      <td>9.0</td>\n",
              "      <td>64.0</td>\n",
              "      <td>9160.0</td>\n",
              "      <td>72.0</td>\n",
              "      <td>1311025.0</td>\n",
              "      <td>10305.0</td>\n",
              "      <td>81.0</td>\n",
              "      <td>512.0</td>\n",
              "      <td>73280.0</td>\n",
              "      <td>576.0</td>\n",
              "      <td>10488200.0</td>\n",
              "      <td>82440.0</td>\n",
              "      <td>648.0</td>\n",
              "      <td>1.501124e+09</td>\n",
              "      <td>11799225.0</td>\n",
              "      <td>92745.0</td>\n",
              "      <td>729.0</td>\n",
              "    </tr>\n",
              "    <tr>\n",
              "      <th>...</th>\n",
              "      <td>...</td>\n",
              "      <td>...</td>\n",
              "      <td>...</td>\n",
              "      <td>...</td>\n",
              "      <td>...</td>\n",
              "      <td>...</td>\n",
              "      <td>...</td>\n",
              "      <td>...</td>\n",
              "      <td>...</td>\n",
              "      <td>...</td>\n",
              "      <td>...</td>\n",
              "      <td>...</td>\n",
              "      <td>...</td>\n",
              "      <td>...</td>\n",
              "      <td>...</td>\n",
              "      <td>...</td>\n",
              "      <td>...</td>\n",
              "      <td>...</td>\n",
              "      <td>...</td>\n",
              "      <td>...</td>\n",
              "    </tr>\n",
              "    <tr>\n",
              "      <th>1455</th>\n",
              "      <td>1.0</td>\n",
              "      <td>6.0</td>\n",
              "      <td>953.0</td>\n",
              "      <td>7.0</td>\n",
              "      <td>36.0</td>\n",
              "      <td>5718.0</td>\n",
              "      <td>42.0</td>\n",
              "      <td>908209.0</td>\n",
              "      <td>6671.0</td>\n",
              "      <td>49.0</td>\n",
              "      <td>216.0</td>\n",
              "      <td>34308.0</td>\n",
              "      <td>252.0</td>\n",
              "      <td>5449254.0</td>\n",
              "      <td>40026.0</td>\n",
              "      <td>294.0</td>\n",
              "      <td>8.655232e+08</td>\n",
              "      <td>6357463.0</td>\n",
              "      <td>46697.0</td>\n",
              "      <td>343.0</td>\n",
              "    </tr>\n",
              "    <tr>\n",
              "      <th>1456</th>\n",
              "      <td>1.0</td>\n",
              "      <td>6.0</td>\n",
              "      <td>2073.0</td>\n",
              "      <td>7.0</td>\n",
              "      <td>36.0</td>\n",
              "      <td>12438.0</td>\n",
              "      <td>42.0</td>\n",
              "      <td>4297329.0</td>\n",
              "      <td>14511.0</td>\n",
              "      <td>49.0</td>\n",
              "      <td>216.0</td>\n",
              "      <td>74628.0</td>\n",
              "      <td>252.0</td>\n",
              "      <td>25783974.0</td>\n",
              "      <td>87066.0</td>\n",
              "      <td>294.0</td>\n",
              "      <td>8.908363e+09</td>\n",
              "      <td>30081303.0</td>\n",
              "      <td>101577.0</td>\n",
              "      <td>343.0</td>\n",
              "    </tr>\n",
              "    <tr>\n",
              "      <th>1457</th>\n",
              "      <td>1.0</td>\n",
              "      <td>7.0</td>\n",
              "      <td>1188.0</td>\n",
              "      <td>9.0</td>\n",
              "      <td>49.0</td>\n",
              "      <td>8316.0</td>\n",
              "      <td>63.0</td>\n",
              "      <td>1411344.0</td>\n",
              "      <td>10692.0</td>\n",
              "      <td>81.0</td>\n",
              "      <td>343.0</td>\n",
              "      <td>58212.0</td>\n",
              "      <td>441.0</td>\n",
              "      <td>9879408.0</td>\n",
              "      <td>74844.0</td>\n",
              "      <td>567.0</td>\n",
              "      <td>1.676677e+09</td>\n",
              "      <td>12702096.0</td>\n",
              "      <td>96228.0</td>\n",
              "      <td>729.0</td>\n",
              "    </tr>\n",
              "    <tr>\n",
              "      <th>1458</th>\n",
              "      <td>1.0</td>\n",
              "      <td>5.0</td>\n",
              "      <td>1078.0</td>\n",
              "      <td>5.0</td>\n",
              "      <td>25.0</td>\n",
              "      <td>5390.0</td>\n",
              "      <td>25.0</td>\n",
              "      <td>1162084.0</td>\n",
              "      <td>5390.0</td>\n",
              "      <td>25.0</td>\n",
              "      <td>125.0</td>\n",
              "      <td>26950.0</td>\n",
              "      <td>125.0</td>\n",
              "      <td>5810420.0</td>\n",
              "      <td>26950.0</td>\n",
              "      <td>125.0</td>\n",
              "      <td>1.252727e+09</td>\n",
              "      <td>5810420.0</td>\n",
              "      <td>26950.0</td>\n",
              "      <td>125.0</td>\n",
              "    </tr>\n",
              "    <tr>\n",
              "      <th>1459</th>\n",
              "      <td>1.0</td>\n",
              "      <td>5.0</td>\n",
              "      <td>1256.0</td>\n",
              "      <td>6.0</td>\n",
              "      <td>25.0</td>\n",
              "      <td>6280.0</td>\n",
              "      <td>30.0</td>\n",
              "      <td>1577536.0</td>\n",
              "      <td>7536.0</td>\n",
              "      <td>36.0</td>\n",
              "      <td>125.0</td>\n",
              "      <td>31400.0</td>\n",
              "      <td>150.0</td>\n",
              "      <td>7887680.0</td>\n",
              "      <td>37680.0</td>\n",
              "      <td>180.0</td>\n",
              "      <td>1.981385e+09</td>\n",
              "      <td>9465216.0</td>\n",
              "      <td>45216.0</td>\n",
              "      <td>216.0</td>\n",
              "    </tr>\n",
              "  </tbody>\n",
              "</table>\n",
              "<p>1460 rows × 20 columns</p>\n",
              "</div>"
            ],
            "text/plain": [
              "       0    1       2    3   ...            16          17        18     19\n",
              "0     1.0  7.0   856.0  8.0  ...  6.272220e+08   5861888.0   54784.0  512.0\n",
              "1     1.0  6.0  1262.0  6.0  ...  2.009917e+09   9555864.0   45432.0  216.0\n",
              "2     1.0  7.0   920.0  6.0  ...  7.786880e+08   5078400.0   33120.0  216.0\n",
              "3     1.0  7.0   961.0  7.0  ...  8.875037e+08   6464647.0   47089.0  343.0\n",
              "4     1.0  8.0  1145.0  9.0  ...  1.501124e+09  11799225.0   92745.0  729.0\n",
              "...   ...  ...     ...  ...  ...           ...         ...       ...    ...\n",
              "1455  1.0  6.0   953.0  7.0  ...  8.655232e+08   6357463.0   46697.0  343.0\n",
              "1456  1.0  6.0  2073.0  7.0  ...  8.908363e+09  30081303.0  101577.0  343.0\n",
              "1457  1.0  7.0  1188.0  9.0  ...  1.676677e+09  12702096.0   96228.0  729.0\n",
              "1458  1.0  5.0  1078.0  5.0  ...  1.252727e+09   5810420.0   26950.0  125.0\n",
              "1459  1.0  5.0  1256.0  6.0  ...  1.981385e+09   9465216.0   45216.0  216.0\n",
              "\n",
              "[1460 rows x 20 columns]"
            ]
          },
          "metadata": {
            "tags": []
          },
          "execution_count": 49
        }
      ]
    },
    {
      "cell_type": "code",
      "metadata": {
        "colab": {
          "base_uri": "https://localhost:8080/",
          "height": 480
        },
        "id": "k6cx3g0WDCMe",
        "outputId": "ec138fdc-f85a-44a2-eef1-ec15d4ec8003"
      },
      "source": [
        "plt.figure(dpi=100, figsize=(8, 5))\n",
        "objects = ('Una', 'Dos', 'Tres')\n",
        "performance = [1, len(df1.columns), len(df2.columns)]\n",
        "\n",
        "plt.bar(y_pos, performance, align='center', alpha=0.6)\n",
        "plt.xticks(y_pos, objects)\n",
        "plt.ylabel('Cantidad de columnas')\n",
        "plt.xlabel('variables')\n",
        "plt.title('Maldicion de la dimensionalidad')\n",
        "\n",
        "plt.show()"
      ],
      "execution_count": 57,
      "outputs": [
        {
          "output_type": "display_data",
          "data": {
            "image/png": "[encoded data removed]",
            "text/plain": [
              "<Figure size 800x500 with 1 Axes>"
            ]
          },
          "metadata": {
            "tags": [],
            "needs_background": "light"
          }
        }
      ]
    },
    {
      "cell_type": "markdown",
      "metadata": {
        "id": "WDTAHbUDGw8j"
      },
      "source": [
        "#Conclusiones"
      ]
    },
    {
      "cell_type": "markdown",
      "metadata": {
        "id": "6tDzBQfAG6uV"
      },
      "source": [
        "Despues de haber trabajado en el primer curso solo con una variable, y el segundo curso haber aplicado transformacion de variables me he dado cuenta que la complejidad de los problemas de ML. Al hacer las transformaciones la cantidad de columnas aumenta, en la comparativa solo usando 3 variables la cantidad de columnas ascendio a 19.\n",
        "\n",
        "En los problemas las dimensiones puede ser no opciona quitarlas y eso implica muchas dimensiones al momento de hacer ingenieria de caracteristicas por lo tanto mas costo de recursos de computacionales.\n"
      ]
    }
  ]
}