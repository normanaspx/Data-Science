{
  "nbformat": 4,
  "nbformat_minor": 0,
  "metadata": {
    "colab": {
      "name": "Optimization problem - LLS.ipynb",
      "provenance": []
    },
    "kernelspec": {
      "name": "python3",
      "display_name": "Python 3"
    },
    "language_info": {
      "name": "python"
    }
  },
  "cells": [
    {
      "cell_type": "code",
      "metadata": {
        "id": "DEIc2S29V__m"
      },
      "source": [
        "import numpy as np\n",
        "import pandas as pd\n",
        "import seaborn as sns\n",
        "from matplotlib import pyplot as plt\n",
        "from datetime import datetime\n",
        "from google.colab import drive \n",
        "from scipy.stats import norm\n",
        "#SkLearn\n",
        "from sklearn.metrics import mean_squared_error\n",
        "from sklearn.preprocessing import PolynomialFeatures\n",
        "from sklearn.feature_selection import mutual_info_regression\n",
        "from sklearn.model_selection import train_test_split\n",
        "#Tensoflow\n",
        "import tensorflow as tf"
      ],
      "execution_count": 1,
      "outputs": []
    },
    {
      "cell_type": "code",
      "metadata": {
        "colab": {
          "base_uri": "https://localhost:8080/"
        },
        "id": "LXsdUYusWQQB",
        "outputId": "34f961f6-202c-4c7a-d15f-c671e34f6931"
      },
      "source": [
        "if tf.__version__.startswith(\"2.\"):\n",
        "  import tensorflow.compat.v1 as tf\n",
        "  tf.compat.v1.disable_v2_behavior()\n",
        "  tf.compat.v1.disable_eager_execution()\n",
        "  print(\"Enabled compatitility to tf1.x\")"
      ],
      "execution_count": 2,
      "outputs": [
        {
          "output_type": "stream",
          "text": [
            "WARNING:tensorflow:From /usr/local/lib/python3.7/dist-packages/tensorflow/python/compat/v2_compat.py:96: disable_resource_variables (from tensorflow.python.ops.variable_scope) is deprecated and will be removed in a future version.\n",
            "Instructions for updating:\n",
            "non-resource variables are not supported in the long term\n",
            "Enabled compatitility to tf1.x\n"
          ],
          "name": "stdout"
        }
      ]
    },
    {
      "cell_type": "code",
      "metadata": {
        "id": "VX9a34BsWLa8"
      },
      "source": [
        "edad = np.array([16,25,39,45,49,64,70])\n",
        "peso = np.array([140,149,165,170,165,159,144])\n",
        "presion= np.array([125,129,127,150,161,144,132])\n",
        "x = np.column_stack((edad,peso))\n",
        "y = presion"
      ],
      "execution_count": 47,
      "outputs": []
    },
    {
      "cell_type": "code",
      "metadata": {
        "id": "oXbA3gmXZXfh"
      },
      "source": [
        "df = pd.DataFrame(x)"
      ],
      "execution_count": 25,
      "outputs": []
    },
    {
      "cell_type": "code",
      "metadata": {
        "colab": {
          "base_uri": "https://localhost:8080/",
          "height": 266
        },
        "id": "Ldv7fa4XZYmI",
        "outputId": "1050801b-1645-41d1-c4fd-ed6bf34adb4f"
      },
      "source": [
        "df"
      ],
      "execution_count": 26,
      "outputs": [
        {
          "output_type": "execute_result",
          "data": {
            "text/html": [
              "<div>\n",
              "<style scoped>\n",
              "    .dataframe tbody tr th:only-of-type {\n",
              "        vertical-align: middle;\n",
              "    }\n",
              "\n",
              "    .dataframe tbody tr th {\n",
              "        vertical-align: top;\n",
              "    }\n",
              "\n",
              "    .dataframe thead th {\n",
              "        text-align: right;\n",
              "    }\n",
              "</style>\n",
              "<table border=\"1\" class=\"dataframe\">\n",
              "  <thead>\n",
              "    <tr style=\"text-align: right;\">\n",
              "      <th></th>\n",
              "      <th>0</th>\n",
              "      <th>1</th>\n",
              "    </tr>\n",
              "  </thead>\n",
              "  <tbody>\n",
              "    <tr>\n",
              "      <th>0</th>\n",
              "      <td>16</td>\n",
              "      <td>140</td>\n",
              "    </tr>\n",
              "    <tr>\n",
              "      <th>1</th>\n",
              "      <td>25</td>\n",
              "      <td>149</td>\n",
              "    </tr>\n",
              "    <tr>\n",
              "      <th>2</th>\n",
              "      <td>39</td>\n",
              "      <td>165</td>\n",
              "    </tr>\n",
              "    <tr>\n",
              "      <th>3</th>\n",
              "      <td>45</td>\n",
              "      <td>170</td>\n",
              "    </tr>\n",
              "    <tr>\n",
              "      <th>4</th>\n",
              "      <td>49</td>\n",
              "      <td>165</td>\n",
              "    </tr>\n",
              "    <tr>\n",
              "      <th>5</th>\n",
              "      <td>64</td>\n",
              "      <td>159</td>\n",
              "    </tr>\n",
              "    <tr>\n",
              "      <th>6</th>\n",
              "      <td>70</td>\n",
              "      <td>144</td>\n",
              "    </tr>\n",
              "  </tbody>\n",
              "</table>\n",
              "</div>"
            ],
            "text/plain": [
              "    0    1\n",
              "0  16  140\n",
              "1  25  149\n",
              "2  39  165\n",
              "3  45  170\n",
              "4  49  165\n",
              "5  64  159\n",
              "6  70  144"
            ]
          },
          "metadata": {
            "tags": []
          },
          "execution_count": 26
        }
      ]
    },
    {
      "cell_type": "code",
      "metadata": {
        "colab": {
          "base_uri": "https://localhost:8080/"
        },
        "id": "AfBr6x8UY5PR",
        "outputId": "a3e55db2-12ef-4dee-e4eb-66814bdb0dcf"
      },
      "source": [
        "poly = PolynomialFeatures(2)\n",
        "data_poly = poly.fit_transform(df)\n",
        "data_poly"
      ],
      "execution_count": 27,
      "outputs": [
        {
          "output_type": "execute_result",
          "data": {
            "text/plain": [
              "array([[1.0000e+00, 1.6000e+01, 1.4000e+02, 2.5600e+02, 2.2400e+03,\n",
              "        1.9600e+04],\n",
              "       [1.0000e+00, 2.5000e+01, 1.4900e+02, 6.2500e+02, 3.7250e+03,\n",
              "        2.2201e+04],\n",
              "       [1.0000e+00, 3.9000e+01, 1.6500e+02, 1.5210e+03, 6.4350e+03,\n",
              "        2.7225e+04],\n",
              "       [1.0000e+00, 4.5000e+01, 1.7000e+02, 2.0250e+03, 7.6500e+03,\n",
              "        2.8900e+04],\n",
              "       [1.0000e+00, 4.9000e+01, 1.6500e+02, 2.4010e+03, 8.0850e+03,\n",
              "        2.7225e+04],\n",
              "       [1.0000e+00, 6.4000e+01, 1.5900e+02, 4.0960e+03, 1.0176e+04,\n",
              "        2.5281e+04],\n",
              "       [1.0000e+00, 7.0000e+01, 1.4400e+02, 4.9000e+03, 1.0080e+04,\n",
              "        2.0736e+04]])"
            ]
          },
          "metadata": {
            "tags": []
          },
          "execution_count": 27
        }
      ]
    },
    {
      "cell_type": "code",
      "metadata": {
        "id": "83n-SF7IZ5VB"
      },
      "source": [
        "x= data_poly\n",
        "x_train = x\n",
        "y_train = y"
      ],
      "execution_count": 38,
      "outputs": []
    },
    {
      "cell_type": "code",
      "metadata": {
        "id": "DlluZIgsXspo"
      },
      "source": [
        "tf.reset_default_graph()\n",
        "g = tf.Graph()\n",
        "n = len(x)\n",
        "with g.as_default():\n",
        "  tensor_x = tf.placeholder(tf.float32,[None, 6],\"tensor_x\")\n",
        "  tensor_y = tf.placeholder(tf.float32,[None, 1],\"tensor_y\")\n",
        "  learning_rate = tf.placeholder(\"float\") \n",
        "\n",
        "  #Parameters\n",
        "  with tf.name_scope(\"parameters\"):\n",
        "    m = tf.get_variable(\"weights\",dtype=tf.float32,  initializer=tf.zeros(7,1))\n",
        "    b = tf.get_variable(\"b\",dtype=tf.float32, initializer=tf.zeros(1))\n",
        "\n",
        "  # Hypothesis\n",
        "  with tf.name_scope(\"hypothesis\"):\n",
        "   y_pred = tf.multiply(m, tensor_x)\n",
        "    \n",
        "  # Mean Squared Error Cost Function\n",
        "  with tf.name_scope(\"Error-function\"):\n",
        "    cost = tf.reduce_sum(tf.pow(y_pred-tensor_y, 2)) / 1/2\n",
        "    #Cost to Tensorboard  \n",
        "    cost_summary = tf.summary.scalar(\"cost\", cost)\n",
        "\n",
        "  with tf.name_scope(\"Gradient\"):\n",
        "\n",
        "    #Goal: Gradient Descent Optimizer\n",
        "    optimizer = tf.gradients(cost ,[m,b])  \n",
        "    actualizacion_m = tf.assign(m, m - learning_rate*optimizer[0] )\n",
        "    actualizacion_b = tf.assign(b, b - learning_rate*optimizer[1] )\n",
        "    actualizacion_parametros = tf.group(actualizacion_m,actualizacion_b)\n",
        "\n",
        "  # Global Variables Initializer\n",
        "  init = tf.global_variables_initializer()"
      ],
      "execution_count": 43,
      "outputs": []
    },
    {
      "cell_type": "code",
      "metadata": {
        "id": "8IkRPVHOYZ_5"
      },
      "source": [
        "def polynomial_model(lr, epochs, batch_size, x, y):\n",
        "  now = datetime.now()\n",
        "  total_iteraciones = int(n/batch_size)\n",
        "  with tf.train.MonitoredSession() as session:\n",
        "    session = tf.Session(graph = g)\n",
        "    session.run(init)\n",
        "    writer = tf.summary.FileWriter(\"exp/\"+str(now)+\"n=\"+str(epochs)+\" lr=\"+str(lr), session.graph)\n",
        "    for epoch in range(epochs): \n",
        "      for i in range(total_iteraciones): \n",
        "        muestra_inicio = i*batch_size\n",
        "        muestra_fin = muestra_inicio + batch_size\n",
        "\n",
        "        #nuevo arreglo de muestra mas pequena\n",
        "        x_mb =  np.array(x[muestra_inicio:muestra_fin]).reshape([-1,6])\n",
        "        y_mb = np.array(y[muestra_inicio:muestra_fin]).reshape([-1,1])\n",
        "        #print(y_mb.shape, x_mb.shape)\n",
        "        \n",
        "        feed_dict = {tensor_x:x_mb, tensor_y:y_mb, learning_rate:lr}\n",
        "        w=session.run(y_pred,feed_dict=feed_dict)\n",
        "        session.run([actualizacion_parametros,m,b],feed_dict=feed_dict)\n",
        "\n",
        "      feed_dict = {tensor_x:np.array(x).reshape(-1,6), tensor_y:np.array(y).reshape(-1,1), learning_rate:lr}\n",
        "      predicciones, cs = session.run([y_pred, cost_summary] ,feed_dict=feed_dict)\n",
        "      writer.add_summary(cs, epoch+1)\n",
        "\n",
        "  pendiente, intercepto = session.run([m,b],feed_dict=feed_dict)\n",
        "  return pendiente, intercepto"
      ],
      "execution_count": 44,
      "outputs": []
    },
    {
      "cell_type": "code",
      "metadata": {
        "colab": {
          "base_uri": "https://localhost:8080/"
        },
        "id": "ZMgxZhNaZxA0",
        "outputId": "85f6c0ea-a395-41a4-da41-696c306b4ca5"
      },
      "source": [
        "m1_m,m1_b = polynomial_model(0.01, 100, 8, x, y)"
      ],
      "execution_count": 48,
      "outputs": [
        {
          "output_type": "stream",
          "text": [
            "INFO:tensorflow:Graph was finalized.\n",
            "INFO:tensorflow:Running local_init_op.\n",
            "INFO:tensorflow:Done running local_init_op.\n"
          ],
          "name": "stdout"
        }
      ]
    },
    {
      "cell_type": "code",
      "metadata": {
        "colab": {
          "base_uri": "https://localhost:8080/"
        },
        "id": "x7MrZR57apjx",
        "outputId": "12fc81b2-a83a-40ec-b98e-f3b7c65c600f"
      },
      "source": [
        "print(m1_m, m1_b)"
      ],
      "execution_count": 52,
      "outputs": [
        {
          "output_type": "stream",
          "text": [
            "0.699002996596792 0.194208614510255\n"
          ],
          "name": "stdout"
        }
      ]
    }
  ]
}