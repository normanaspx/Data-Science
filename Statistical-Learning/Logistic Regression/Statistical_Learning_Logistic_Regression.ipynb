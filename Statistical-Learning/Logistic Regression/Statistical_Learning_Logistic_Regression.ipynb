{
  "nbformat": 4,
  "nbformat_minor": 0,
  "metadata": {
    "colab": {
      "name": "Statistical Learning  - Logistic Regression.ipynb",
      "provenance": []
    },
    "kernelspec": {
      "name": "python3",
      "display_name": "Python 3"
    },
    "language_info": {
      "name": "python"
    }
  },
  "cells": [
    {
      "cell_type": "markdown",
      "metadata": {
        "id": "ZusYbn4BvPlx"
      },
      "source": [
        "# Regresion Logistica"
      ]
    },
    {
      "cell_type": "markdown",
      "metadata": {
        "id": "QqbC3RiDvl6N"
      },
      "source": [
        "Apesar de que lleva el nombre de regresion logistica este es un metodo de clasificacion.\n",
        "Este algoritmo tambien es parametrico:\n",
        "- Si hay una hipotesis h(x)\n",
        "- Si hay parametros que buscamos que aprendan\n",
        "- Hay entrenamiento y aprendizaje por medio de Gradient Descent \n"
      ]
    },
    {
      "cell_type": "markdown",
      "metadata": {
        "id": "RgrV8NCWv1Mi"
      },
      "source": [
        "## Salidas de la regresion logistica\n"
      ]
    },
    {
      "cell_type": "markdown",
      "metadata": {
        "id": "chWgGMkfv7jA"
      },
      "source": [
        "- Las salidas de la regresion logistica son probabilisticas en un intervalo de 0-1.\n",
        "- La prediccion se interpreta como la probabilidad de que un ejemplo pertenezca a la clase \"1\"\n",
        "- La probabilidad de que pertenezca a la clase \"0\" es *1-P(y=1)*"
      ]
    },
    {
      "cell_type": "markdown",
      "metadata": {
        "id": "5KyrRrvzwdmg"
      },
      "source": [
        "## Como logra la regresion logistica obtener valores limitados al intervalo de 0-1?\n",
        "\n"
      ]
    },
    {
      "cell_type": "markdown",
      "metadata": {
        "id": "3P7DhSA3wuIW"
      },
      "source": [
        "La regresion logistica basa su hipotesis en una funcion llamada **sigmoid** o funcion logistica la cual tiene forma de S y tiene un rango entre 0,1\n",
        "<img src=\"https://qph.fs.quoracdn.net/main-qimg-6b67bea3311c3429bfb34b6b1737fe0c\" /> <br>\n",
        "Conocemos de la regresion lineal que su hipotesis tiene la forma: \n",
        "\n",
        "<img width=\"360\" height=\"80\" src=\"https://miro.medium.com/max/1400/1*J_5IN7D3Sgt7-O0gLaZ6FA.png\" />\n",
        "\n",
        "\n",
        "Si combinamos la funcion sigmoid con la hipotesis conocida tenemos la nueva hipotesis para clasificacion con regresion logistica:\n",
        "<img width=\"330\" height=\"100\" src=\"https://miro.medium.com/max/1046/0*b51zuoqG5xWwqA8G.png\" />\n"
      ]
    },
    {
      "cell_type": "markdown",
      "metadata": {
        "id": "Axx1mKcy1UgZ"
      },
      "source": [
        "## Frontera de desicion"
      ]
    },
    {
      "cell_type": "markdown",
      "metadata": {
        "id": "vnOcrUIJ1kCW"
      },
      "source": [
        "Para regresion, la hipotesis es una linea recta o curva si es regresion polinomial,  las predicciones seran los valores sobre esta curva.\n",
        "Esta linea o curva es llamada frontera de decision ya que genera un limite entre dos clases es decir las observaciones a un lado de la curva pertenecen a una clase y las observaciones al otro lado pertenecen a otra clase.\n",
        "\n",
        "<img width=\"400\" height=\"300\" src=\"https://www.codificandobits.com/img/posts/2018-08-06/frontera_de_decision_ideal.png\" /> <br>\n",
        "\n",
        "El proceso de entrenamiento busca encontrar la frontera de decision que mejor separe las clases."
      ]
    },
    {
      "cell_type": "markdown",
      "metadata": {
        "id": "wy8Y9Pvy3D6D"
      },
      "source": [
        "## Frontera de decision no lineal\n"
      ]
    },
    {
      "cell_type": "markdown",
      "metadata": {
        "id": "m1SuvPGC3JAi"
      },
      "source": [
        "El algoritmo de regresion logistica es considerado un clasificador lineal ya que la frontera de decision es una linea recta pero en problemas y aplicaciones los datos no siempre se comportan de manera lineal.\n",
        "\n",
        "<img width=\"400\" height=\"300\"  src=\"https://carlosjuliopardoblog.files.wordpress.com/2017/12/331.png\" /> <br>\n",
        "\n",
        " - Usando deep learning y redes neuronales se puede entrenar modelos de decision no lineal complejos.\n",
        "\n",
        "- Pensemos que la funcion de regresion que ya conocemos es una neurona y recibe varias entradas, hace operatoria entre ellas y da una salida entre 0, 1.\n",
        "\n",
        "- Si conectamos varias neuronas en capas(la salida de una neurna logistica es la entrada de otra) se tiene el caso mas elemental de una red neuronal.\n",
        "\n",
        "<img src=\"https://www.researchgate.net/publication/332932489/figure/fig1/AS:756125788020736@1557285844270/Example-of-simple-neural-network-defined-by-E-x-1-x-2-y.ppm\" />\n",
        "\n",
        "<br>\n",
        "\n",
        "\n",
        "\n",
        "\n",
        "\n"
      ]
    },
    {
      "cell_type": "markdown",
      "metadata": {
        "id": "baucsTIR5Qe7"
      },
      "source": [
        "## Se puede encontrar fronteras de decision no lineales sin redes neuronales?"
      ]
    },
    {
      "cell_type": "markdown",
      "metadata": {
        "id": "GFwcxEr35TB4"
      },
      "source": [
        "Si usando regresion logistica. <br>\n",
        "- Cuando se desarrollan modelos donde la hipotesis no es una recta sino una funcion matematica mas compleja: regresion polinomial.\n",
        "- Para ellos de debe aplicar Feature engineering para capturar nuevas variables que capturen ese comportamiento no lineal."
      ]
    },
    {
      "cell_type": "markdown",
      "metadata": {
        "id": "eSPTb5Du6q9Q"
      },
      "source": [
        "## Que funcion de costo usamos para el entrenamiento?"
      ]
    },
    {
      "cell_type": "markdown",
      "metadata": {
        "id": "fe0OeSyr61Bz"
      },
      "source": [
        "### Cross entropy\n",
        "\n",
        "Estadisticamente la entropia cruzada mide la diferencia o distancia que existe dentro de dos distribuciones de probabilidad.\n",
        "\n",
        "- Una distribución de probabilidad no es más que la probabilidad de ocurrencia para un conjunto de posibles resultados.\n",
        "- Para la regresión logística los posibles resultados son solo 2: (0,1) y sabemos la probabilidad de que el resultado sea 0 simplemente le restamos de 1 la probabilidad de ser 1: P(y=0) = 1 – P(y=1)\n",
        "- Por lo cual es fácil construir una distribución de probabilidad.\n",
        "\n",
        "<img width=\"400\" height=\"300\"   src=\"https://vitalflux.com/wp-content/uploads/2020/10/Screenshot-2020-10-15-at-4.05.59-PM.png\" />\n",
        "\n"
      ]
    },
    {
      "cell_type": "markdown",
      "metadata": {
        "id": "lPjoyVwE9pHx"
      },
      "source": [
        "## Cómo minimizamos el costo en función de los parámetros  θ de manera que encontremos la hipótesis de menor costo?"
      ]
    },
    {
      "cell_type": "markdown",
      "metadata": {
        "id": "XibxBE229hDa"
      },
      "source": [
        "Es decir, ¿cómo “aprendemos” qué parámetros se ajustan de mejor manera a los datos de entrenamiento? Nuevamente usamos gradient descent"
      ]
    },
    {
      "cell_type": "markdown",
      "metadata": {
        "id": "0HuH1hED9u-Z"
      },
      "source": [
        "### Gradient Descent"
      ]
    },
    {
      "cell_type": "markdown",
      "metadata": {
        "id": "x5ErO9yL_LEQ"
      },
      "source": [
        "Esto significa que la forma de encontrar los parámetros de la hipótesis nuevamente es: <br><br>\n",
        "<img src=\"https://ddhaval04.github.io/assets/images/formula_2.jpg\" />\n",
        "<br><br>\n",
        "La expresión es igual a regresión lineal y polinomial, ¿la diferencia? La forma de calcular las predicciones a través de la hipótesis h(x).\n"
      ]
    }
  ]
}