{
  "nbformat": 4,
  "nbformat_minor": 0,
  "metadata": {
    "colab": {
      "name": "Softmax.ipynb",
      "provenance": []
    },
    "kernelspec": {
      "name": "python3",
      "display_name": "Python 3"
    },
    "language_info": {
      "name": "python"
    }
  },
  "cells": [
    {
      "cell_type": "markdown",
      "metadata": {
        "id": "mmcYDMp_VmBw"
      },
      "source": [
        "# Laboratorio 3 - Regresion logistica"
      ]
    },
    {
      "cell_type": "code",
      "metadata": {
        "id": "Ae83xLQhX0HG"
      },
      "source": [
        "import tensorflow as tf\n",
        "from tensorflow import keras\n",
        "import numpy as np\n",
        "import matplotlib.pyplot as plt\n",
        "from sklearn.preprocessing import OneHotEncoder\n",
        "from sklearn.preprocessing import normalize\n",
        "from sklearn.preprocessing import scale\n",
        "from datetime import datetime\n"
      ],
      "execution_count": 78,
      "outputs": []
    },
    {
      "cell_type": "code",
      "metadata": {
        "colab": {
          "base_uri": "https://localhost:8080/",
          "height": 0
        },
        "id": "MeQZ3-f-6gR-",
        "outputId": "6c727edc-9306-404e-c0be-5dea83de2c7a"
      },
      "source": [
        "if tf.__version__.startswith(\"2.\"):\n",
        "  import tensorflow.compat.v1 as tf\n",
        "  tf.compat.v1.disable_v2_behavior()\n",
        "  tf.compat.v1.disable_eager_execution()\n",
        "  print(\"Enabled compatitility to tf1.x\")"
      ],
      "execution_count": 83,
      "outputs": [
        {
          "output_type": "stream",
          "text": [
            "Enabled compatitility to tf1.x\n"
          ],
          "name": "stdout"
        }
      ]
    },
    {
      "cell_type": "code",
      "metadata": {
        "id": "e_akdasKX5LK"
      },
      "source": [
        "fashion_mnist = keras.datasets.fashion_mnist"
      ],
      "execution_count": 3,
      "outputs": []
    },
    {
      "cell_type": "code",
      "metadata": {
        "colab": {
          "base_uri": "https://localhost:8080/",
          "height": 0
        },
        "id": "Qq51H4ihX7Qh",
        "outputId": "556b03df-11b8-444b-bbc6-446d1751921b"
      },
      "source": [
        "(train_images, train_labels), (test_images, test_labels) = fashion_mnist.load_data()"
      ],
      "execution_count": 4,
      "outputs": [
        {
          "output_type": "stream",
          "text": [
            "Downloading data from https://storage.googleapis.com/tensorflow/tf-keras-datasets/train-labels-idx1-ubyte.gz\n",
            "32768/29515 [=================================] - 0s 0us/step\n",
            "Downloading data from https://storage.googleapis.com/tensorflow/tf-keras-datasets/train-images-idx3-ubyte.gz\n",
            "26427392/26421880 [==============================] - 0s 0us/step\n",
            "Downloading data from https://storage.googleapis.com/tensorflow/tf-keras-datasets/t10k-labels-idx1-ubyte.gz\n",
            "8192/5148 [===============================================] - 0s 0us/step\n",
            "Downloading data from https://storage.googleapis.com/tensorflow/tf-keras-datasets/t10k-images-idx3-ubyte.gz\n",
            "4423680/4422102 [==============================] - 0s 0us/step\n"
          ],
          "name": "stdout"
        }
      ]
    },
    {
      "cell_type": "code",
      "metadata": {
        "id": "OsQGp011alwy"
      },
      "source": [
        "(train_images, train_labels), (test_images, test_labels) = fashion_mnist.load_data()"
      ],
      "execution_count": 136,
      "outputs": []
    },
    {
      "cell_type": "code",
      "metadata": {
        "colab": {
          "base_uri": "https://localhost:8080/",
          "height": 282
        },
        "id": "y7v_HG08YQNN",
        "outputId": "2f10efb1-c38a-4cea-9ff7-6872608e250e"
      },
      "source": [
        "plt.imshow(train_images[10], cmap = 'gray')\n",
        "plt.colorbar()"
      ],
      "execution_count": 6,
      "outputs": [
        {
          "output_type": "execute_result",
          "data": {
            "text/plain": [
              "<matplotlib.colorbar.Colorbar at 0x7efe0edb80d0>"
            ]
          },
          "metadata": {
            "tags": []
          },
          "execution_count": 6
        },
        {
          "output_type": "display_data",
          "data": {
            "image/png": "[encoded data removed]",
            "text/plain": [
              "<Figure size 432x288 with 2 Axes>"
            ]
          },
          "metadata": {
            "tags": [],
            "needs_background": "light"
          }
        }
      ]
    },
    {
      "cell_type": "markdown",
      "metadata": {
        "id": "X4pCF7pzYL81"
      },
      "source": [
        "## Labels\n",
        "  "
      ]
    },
    {
      "cell_type": "code",
      "metadata": {
        "colab": {
          "base_uri": "https://localhost:8080/",
          "height": 0
        },
        "id": "erNX_7ufX8uy",
        "outputId": "918b2187-3336-4171-c2df-281afeb0c229"
      },
      "source": [
        "np.unique(train_labels)"
      ],
      "execution_count": 19,
      "outputs": [
        {
          "output_type": "execute_result",
          "data": {
            "text/plain": [
              "array([0, 1, 2, 3, 4, 5, 6, 7, 8, 9], dtype=uint8)"
            ]
          },
          "metadata": {
            "tags": []
          },
          "execution_count": 19
        }
      ]
    },
    {
      "cell_type": "code",
      "metadata": {
        "colab": {
          "base_uri": "https://localhost:8080/",
          "height": 589
        },
        "id": "iQMaJPtAYNZD",
        "outputId": "1ec18b86-b30f-4918-bb81-051eb40c8e47"
      },
      "source": [
        "plt.figure(figsize=(10,10))\n",
        "\n",
        "for i in range(25):\n",
        "    plt.subplot(5,5,i+1)\n",
        "    plt.xticks([])\n",
        "    plt.yticks([])\n",
        "    plt.grid(False)\n",
        "    plt.imshow(train_images[i], cmap='gray')\n",
        "    plt.xlabel(train_labels[i])\n",
        "plt.show()"
      ],
      "execution_count": 8,
      "outputs": [
        {
          "output_type": "display_data",
          "data": {
            "image/png": "[encoded data removed]",
            "text/plain": [
              "<Figure size 720x720 with 25 Axes>"
            ]
          },
          "metadata": {
            "tags": []
          }
        }
      ]
    },
    {
      "cell_type": "markdown",
      "metadata": {
        "id": "KjZwwJmXucYC"
      },
      "source": [
        "## Clases a Usar"
      ]
    },
    {
      "cell_type": "code",
      "metadata": {
        "id": "Dh2h8iPwugRJ"
      },
      "source": [
        "dic = {0:\"T-shirt/top\", 1: \"Trouser\", 2: \"Pullover\"}"
      ],
      "execution_count": 20,
      "outputs": []
    },
    {
      "cell_type": "code",
      "metadata": {
        "id": "kORAOWPzd9W5"
      },
      "source": [
        "train_labels_filtered =  train_labels[train_labels < 3]\n",
        "train_images_filtered =  train_images[train_labels < 3 ]"
      ],
      "execution_count": 26,
      "outputs": []
    },
    {
      "cell_type": "code",
      "metadata": {
        "id": "Tz3AcTn33E3j"
      },
      "source": [
        "train_reshaped = train_images_filtered.reshape(18000, 28*28)"
      ],
      "execution_count": 29,
      "outputs": []
    },
    {
      "cell_type": "code",
      "metadata": {
        "id": "g6BcbBwR6QrT"
      },
      "source": [
        "with tf.Session() as session:\n",
        "    y_real_train = session.run(tf.one_hot(train_labels_filtered,3))"
      ],
      "execution_count": 32,
      "outputs": []
    },
    {
      "cell_type": "code",
      "metadata": {
        "id": "igVSFAuT8bap"
      },
      "source": [
        "class logistic_regression:\n",
        "\n",
        "  def acurracy(self, y_pred):\n",
        "    return tf.reduce_mean(tf.cast(y_pred, tf.float32))\n",
        "\n",
        "  def softmax(self, x, W, b):\n",
        "    return tf.nn.softmax(tf.matmul(x, W) + b, name=\"softmax\")\n",
        "\n",
        "  def prediction(self, y_hat, y):\n",
        "    return tf.equal(tf.argmax(y_hat,1), tf.argmax(y,1))\n",
        "\n",
        "  def cross_entropy(self, y_true, y_hat):\n",
        "    return tf.reduce_mean(tf.nn.softmax_cross_entropy_with_logits(labels=y_true, logits=y_hat))"
      ],
      "execution_count": 61,
      "outputs": []
    },
    {
      "cell_type": "code",
      "metadata": {
        "id": "x9arKmcK8ayN"
      },
      "source": [
        "tf.reset_default_graph()\n",
        "g = tf.Graph()\n",
        "model = logistic_regression()\n",
        "with g.as_default():\n",
        "    x = tf.placeholder(tf.float32, [None, 28*28]) \n",
        "    y = tf.placeholder(tf.float32, [None, 3]) \n",
        "    learning_rate = tf.placeholder(\"float\")\n",
        "    W = tf.Variable(tf.random_normal((784,3)), name = \"W\", dtype=\"float\") \n",
        "    b = tf.Variable(tf.random_normal((1,3)), name = \"b\", dtype=\"float\") \n",
        "\n",
        "    with tf.name_scope(\"Logistic_Regression\"):\n",
        "        y_hat = model.softmax(x, W, b)\n",
        "    with tf.name_scope(\"Cost_Function\"):\n",
        "        cross_entropy = model.cross_entropy(y, y_hat)\n",
        "        cross_summary = tf.summary.scalar('Cost_summary', cross_entropy)\n",
        "        train_step = tf.train.GradientDescentOptimizer(learning_rate).minimize(cross_entropy) \n",
        "    with tf.name_scope(\"Accuracy\"):\n",
        "        prediction = model.prediction(y_hat, y)\n",
        "        accuracy = model.acurracy(prediction)\n",
        "        accuracy_summary = tf.summary.scalar('Accuracy_summary', accuracy)\n",
        "    summaries = tf.summary.merge_all()\n",
        "    init = tf.global_variables_initializer()"
      ],
      "execution_count": 118,
      "outputs": []
    },
    {
      "cell_type": "markdown",
      "metadata": {
        "id": "mq_fJTsOVOVX"
      },
      "source": [
        "<img src=\"https://github.com/normanaspx/Data-Science/blob/master/resources/softmax/graph.PNG?raw=true\" />"
      ]
    },
    {
      "cell_type": "code",
      "metadata": {
        "id": "3z6PsFLwAl11"
      },
      "source": [
        "def training(lr,batch_size,epochs,x_values):\n",
        "    tf.reset_default_graph()\n",
        "    number_batches = int(len(y_real_train)/batch_size)\n",
        "    now = datetime.now()\n",
        "    with tf.Session(graph=g) as sess: \n",
        "\n",
        "        writer = tf.summary.FileWriter('j/'+str(now)+\" lr=\"+str(lr), sess.graph)\n",
        "        sess.run(init) \n",
        "        for epoch in range(epochs): \n",
        "            for batch in range(number_batches):\n",
        "                init_value = batch*(batch_size)\n",
        "                X = x_values[init_value:init_value+batch_size-1]\n",
        "                Y = y_real_train[init_value:init_value+batch_size-1]\n",
        "                sess.run(train_step, feed_dict = {x : X, y : Y,learning_rate:lr}) \n",
        "                co,beta_0,beta_1,acc,summ= sess.run([cross_entropy,W,b,accuracy,summaries],feed_dict = {x : X, y : Y,learning_rate:lr}) \n",
        "                writer.add_summary(summ, epoch+1)\n",
        "                        \n",
        "        writer.close()\n",
        "    return (beta_0, beta_1)\n"
      ],
      "execution_count": 121,
      "outputs": []
    },
    {
      "cell_type": "markdown",
      "metadata": {
        "id": "VzWOH6jdLpyK"
      },
      "source": [
        "# Experimentos"
      ]
    },
    {
      "cell_type": "markdown",
      "metadata": {
        "id": "Ca41VIJqHt36"
      },
      "source": [
        "## Con normalizacion [0, 255] to [0, 1]  vs Sin normalizacion"
      ]
    },
    {
      "cell_type": "code",
      "metadata": {
        "colab": {
          "base_uri": "https://localhost:8080/",
          "height": 0
        },
        "id": "DeAxDvbNA8K4",
        "outputId": "9995f2e7-17ff-4070-b0a4-b9a4bca04a26"
      },
      "source": [
        "#Norm\n",
        "training(0.0001,32,400,train_reshaped/255)\n",
        "#SN\n",
        "training(0.0001,32,400,train_reshaped)"
      ],
      "execution_count": 95,
      "outputs": [
        {
          "output_type": "execute_result",
          "data": {
            "text/plain": [
              "(array([[ 0.1429195 , -0.28060737,  1.6834657 ],\n",
              "        [ 0.36119342,  0.614173  , -0.0033627 ],\n",
              "        [-0.65071815, -0.09371825,  0.6914545 ],\n",
              "        ...,\n",
              "        [ 1.7660742 , -1.01567   ,  0.1785215 ],\n",
              "        [-0.68669915,  1.994621  ,  0.6011763 ],\n",
              "        [ 0.8353548 , -0.5271713 , -1.276608  ]], dtype=float32),\n",
              " array([[ 1.1163481, -1.2842398,  0.2102158]], dtype=float32))"
            ]
          },
          "metadata": {
            "tags": []
          },
          "execution_count": 95
        }
      ]
    },
    {
      "cell_type": "markdown",
      "metadata": {
        "id": "jdcE7M65UArJ"
      },
      "source": [
        "### Acurracy\n",
        "\n",
        "<img src=\"https://github.com/normanaspx/Data-Science/blob/master/resources/softmax/400.PNG?raw=true\" />\n",
        "\n",
        "### Cost function\n",
        "\n",
        "<img src=\"https://github.com/normanaspx/Data-Science/blob/master/resources/softmax/400sin.PNG?raw=true\" />"
      ]
    },
    {
      "cell_type": "code",
      "metadata": {
        "id": "KVD9s2HfLfx0"
      },
      "source": [
        "#Norm\n",
        "m_w, m_b = training(0.0001,64,400,train_reshaped/255)\n",
        "#SN\n",
        "#training(0.0001,64,400,train_reshaped)"
      ],
      "execution_count": 142,
      "outputs": []
    },
    {
      "cell_type": "markdown",
      "metadata": {
        "id": "bxlJnmLRUcAb"
      },
      "source": [
        "### Acurracy\n",
        "\n",
        "<img src=\"https://github.com/normanaspx/Data-Science/blob/master/resources/softmax/exp2.PNG?raw=true\" />\n",
        "\n",
        "### Cost function\n",
        "\n",
        "<img src=\"https://github.com/normanaspx/Data-Science/blob/master/resources/softmax/exp2sin.PNG?raw=true\" />"
      ]
    },
    {
      "cell_type": "code",
      "metadata": {
        "colab": {
          "base_uri": "https://localhost:8080/",
          "height": 0
        },
        "id": "5fAx60DdPrSH",
        "outputId": "c31d26b3-7eaa-4007-cbf5-b01b9a44f885"
      },
      "source": [
        "#Norm\n",
        "training(0.0001,64,10,train_reshaped/255)\n",
        "#SN\n",
        "training(0.0001,64,10,train_reshaped)"
      ],
      "execution_count": 122,
      "outputs": [
        {
          "output_type": "execute_result",
          "data": {
            "text/plain": [
              "(array([[-0.41499418, -0.3849983 ,  0.5291832 ],\n",
              "        [ 0.4878122 , -0.11307962, -0.39621526],\n",
              "        [ 0.5582813 ,  1.5454012 ,  0.6988282 ],\n",
              "        ...,\n",
              "        [ 0.5108555 , -1.0424184 , -1.5457306 ],\n",
              "        [ 1.9155302 , -1.5979437 , -0.06484796],\n",
              "        [-0.7187388 , -1.6133949 , -0.54587764]], dtype=float32),\n",
              " array([[ 0.10740481, -0.19185883, -1.1883944 ]], dtype=float32))"
            ]
          },
          "metadata": {
            "tags": []
          },
          "execution_count": 122
        }
      ]
    },
    {
      "cell_type": "markdown",
      "metadata": {
        "id": "cahrcie1UqKH"
      },
      "source": [
        "### Acurracy\n",
        "\n",
        "<img src=\"https://github.com/normanaspx/Data-Science/blob/master/resources/softmax/500.PNG?raw=true\" />\n",
        "\n",
        "### Cost function\n",
        "\n",
        "<img src=\"https://github.com/normanaspx/Data-Science/blob/master/resources/softmax/500sin.PNG?raw=true\" />"
      ]
    },
    {
      "cell_type": "code",
      "metadata": {
        "id": "zfyH54vIiYaE"
      },
      "source": [
        "#%load_ext tensorboard\n",
        "#%tensorboard --logdir j"
      ],
      "execution_count": 124,
      "outputs": []
    },
    {
      "cell_type": "markdown",
      "metadata": {
        "id": "8HukOmZRUoR0"
      },
      "source": [
        "## Predicciones"
      ]
    },
    {
      "cell_type": "code",
      "metadata": {
        "id": "VE90bmHgBSUz"
      },
      "source": [
        "import random\n",
        "\n",
        "def hyp(x, W, b):\n",
        "  logistic_reg = (np.matmul(x,W)+b)\n",
        "  return np.exp(logistic_reg - np.max(logistic_reg)) / np.sum(np.exp(logistic_reg - np.max(logistic_reg))) # softmax\n",
        "\n",
        "def randomize():\n",
        "  random.seed(123)\n",
        "  return np.random.randint(low = 0, high = 3000, size = 5)\n",
        "\n",
        "def plotPred(y_pred, y_true,  numplot, img):\n",
        "    plt.subplot(3,2,numplot+1)\n",
        "    plt.imshow(img, cmap='gray')\n",
        "    plt.xlabel(\"Prediccion: \"+y_pred+\" - Valor Real: \"+y_true)\n",
        "\n",
        "def classifier(images,labels, dic):\n",
        "    index = randomize()\n",
        "    plt.figure(figsize=(20,20))\n",
        "    for i in range(len(index)):\n",
        "        image = images[index[i]]\n",
        "        label = labels[index[i]]\n",
        "        x = image.reshape(1,28*28)\n",
        "        #Scores\n",
        "        scores = hyp(x, m_w, m_b)\n",
        "        label_pred = np.argmax(scores)\n",
        "        plotPred(str(dic[label_pred]), str(dic[label]), i, image)\n"
      ],
      "execution_count": 202,
      "outputs": []
    },
    {
      "cell_type": "code",
      "metadata": {
        "id": "MVQdrLYIczFJ"
      },
      "source": [
        "test_labels_filtered =  test_labels[test_labels < 3]\n",
        "test_images_filtered =  test_images[test_labels < 3 ]"
      ],
      "execution_count": 162,
      "outputs": []
    },
    {
      "cell_type": "code",
      "metadata": {
        "colab": {
          "base_uri": "https://localhost:8080/",
          "height": 1000
        },
        "id": "Uk-f1KOXctQv",
        "outputId": "e1d9df71-5d7b-4608-decd-32bff9ae3bd4"
      },
      "source": [
        "classifier(test_images_filtered/255,test_labels_filtered, dic)"
      ],
      "execution_count": 203,
      "outputs": [
        {
          "output_type": "display_data",
          "data": {
            "image/png": "[encoded data removed]",
            "text/plain": [
              "<Figure size 1440x1440 with 5 Axes>"
            ]
          },
          "metadata": {
            "tags": [],
            "needs_background": "light"
          }
        }
      ]
    },
    {
      "cell_type": "markdown",
      "metadata": {
        "id": "y2-UB-R2tcnX"
      },
      "source": [
        "## Conclusiones\n",
        "\n",
        "Con un lr=0.001 y 500 epochs. Se usaron tres clases(Tshirt, Trouser, Pullover) Al modelo le cuesta diferenciar entre Pullover y Tshirt."
      ]
    },
    {
      "cell_type": "code",
      "metadata": {
        "id": "4TdzRNkddDSG"
      },
      "source": [
        ""
      ],
      "execution_count": null,
      "outputs": []
    }
  ]
}